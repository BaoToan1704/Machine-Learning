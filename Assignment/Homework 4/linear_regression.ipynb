{
 "cells": [
  {
   "cell_type": "code",
   "execution_count": 15,
   "metadata": {},
   "outputs": [],
   "source": [
    "import numpy as np  \n",
    "import matplotlib.pyplot as plt\n"
   ]
  },
  {
   "cell_type": "code",
   "execution_count": 22,
   "metadata": {},
   "outputs": [],
   "source": [
    "x = np.array([[1,2,3,4,5],[6,7,8,9,10]])\n",
    "y = np.array([2,4.1,5.9,8.1,10.1])\n"
   ]
  },
  {
   "cell_type": "code",
   "execution_count": 23,
   "metadata": {},
   "outputs": [],
   "source": [
    "def linear_regression(x, y):\n",
    "    x = np.array(x)\n",
    "    y = np.array(y)\n",
    "    x = x.T\n",
    "    y = y.T\n",
    "    xTx = np.dot(x.T, x)\n",
    "    xTy = np.dot(x.T, y)\n",
    "    w = np.dot(np.linalg.inv(xTx), xTy)\n",
    "    return w\n"
   ]
  },
  {
   "cell_type": "code",
   "execution_count": 29,
   "metadata": {},
   "outputs": [
    {
     "data": {
      "image/png": "[encoded data removed]",
      "text/plain": [
       "<Figure size 432x288 with 1 Axes>"
      ]
     },
     "metadata": {
      "needs_background": "light"
     },
     "output_type": "display_data"
    }
   ],
   "source": [
    "def plot_regression(x, y, w):\n",
    "    x = np.array(x)\n",
    "    y = np.array(y)\n",
    "    plt.scatter(x[0], y)\n",
    "    plt.plot(x[0], w[0] + w[1] * x[0], color='red')\n",
    "    plt.show()\n",
    "    \n",
    "plot_regression(x, y, linear_regression(x, y))\n",
    "        "
   ]
  },
  {
   "cell_type": "code",
   "execution_count": 27,
   "metadata": {},
   "outputs": [
    {
     "name": "stdout",
     "output_type": "stream",
     "text": [
      "[2.2254 0.8026]\n",
      "[2.29574 1.13536]\n",
      "[2.312649 1.274551]\n",
      "[2.3078339 1.3346506]\n",
      "[2.29424461 1.36241769]\n",
      "[2.27716973 1.37695127]\n",
      "[2.25876856 1.38605261]\n",
      "[2.23992224 1.39290839]\n",
      "[2.22098987 1.39882044]\n",
      "[2.20211731 1.40432072]\n"
     ]
    }
   ],
   "source": [
    "# Training\n",
    "epochs = 10\n",
    "learning_rate = 0.01\n",
    "w = linear_regression(x, y)\n",
    "for epoch in range(epochs):\n",
    "    y_pred = w[0] + w[1] * x[0]\n",
    "    error = y_pred - y\n",
    "    w[0] = w[0] - learning_rate * error.sum()\n",
    "    w[1] = w[1] - learning_rate * (error * x[0]).sum()\n",
    "    print(w)"
   ]
  },
  {
   "cell_type": "code",
   "execution_count": 30,
   "metadata": {},
   "outputs": [
    {
     "data": {
      "image/png": "[encoded data removed]",
      "text/plain": [
       "<Figure size 432x288 with 1 Axes>"
      ]
     },
     "metadata": {
      "needs_background": "light"
     },
     "output_type": "display_data"
    }
   ],
   "source": [
    "def plot_loss_function_at_min(x, y, w):\n",
    "    x = np.array(x)\n",
    "    y = np.array(y)\n",
    "    y_pred = w[0] + w[1] * x[0]\n",
    "    error = y_pred - y\n",
    "    plt.scatter(x[0], error)\n",
    "    plt.plot(x[0], error, color='red')\n",
    "    plt.show()\n",
    "plot_loss_function_at_min(x, y, w)"
   ]
  }
 ],
 "metadata": {
  "kernelspec": {
   "display_name": "Python 3.9.7 64-bit",
   "language": "python",
   "name": "python3"
  },
  "language_info": {
   "codemirror_mode": {
    "name": "ipython",
    "version": 3
   },
   "file_extension": ".py",
   "mimetype": "text/x-python",
   "name": "python",
   "nbconvert_exporter": "python",
   "pygments_lexer": "ipython3",
   "version": "3.9.7"
  },
  "orig_nbformat": 4,
  "vscode": {
   "interpreter": {
    "hash": "14958d3aee5f1cad06795f787e54b96185c25fb40dfec723a5be941f3a531b8c"
   }
  }
 },
 "nbformat": 4,
 "nbformat_minor": 2
}
