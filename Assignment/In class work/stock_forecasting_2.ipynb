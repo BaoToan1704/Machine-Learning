{
 "cells": [
  {
   "cell_type": "code",
   "execution_count": 21,
   "metadata": {},
   "outputs": [],
   "source": [
    "import numpy as np\n",
    "import pandas as pd\n",
    "import matplotlib.pyplot as plt"
   ]
  },
  {
   "cell_type": "code",
   "execution_count": 22,
   "metadata": {},
   "outputs": [
    {
     "data": {
      "text/html": [
       "<div>\n",
       "<style scoped>\n",
       "    .dataframe tbody tr th:only-of-type {\n",
       "        vertical-align: middle;\n",
       "    }\n",
       "\n",
       "    .dataframe tbody tr th {\n",
       "        vertical-align: top;\n",
       "    }\n",
       "\n",
       "    .dataframe thead th {\n",
       "        text-align: right;\n",
       "    }\n",
       "</style>\n",
       "<table border=\"1\" class=\"dataframe\">\n",
       "  <thead>\n",
       "    <tr style=\"text-align: right;\">\n",
       "      <th></th>\n",
       "      <th>Date</th>\n",
       "      <th>Open</th>\n",
       "      <th>High</th>\n",
       "      <th>Low</th>\n",
       "      <th>Last</th>\n",
       "      <th>Close</th>\n",
       "      <th>Total Trade Quantity</th>\n",
       "      <th>Turnover (Lacs)</th>\n",
       "    </tr>\n",
       "  </thead>\n",
       "  <tbody>\n",
       "    <tr>\n",
       "      <th>0</th>\n",
       "      <td>2018-09-28</td>\n",
       "      <td>234.05</td>\n",
       "      <td>235.95</td>\n",
       "      <td>230.20</td>\n",
       "      <td>233.50</td>\n",
       "      <td>233.75</td>\n",
       "      <td>3069914</td>\n",
       "      <td>7162.35</td>\n",
       "    </tr>\n",
       "    <tr>\n",
       "      <th>1</th>\n",
       "      <td>2018-09-27</td>\n",
       "      <td>234.55</td>\n",
       "      <td>236.80</td>\n",
       "      <td>231.10</td>\n",
       "      <td>233.80</td>\n",
       "      <td>233.25</td>\n",
       "      <td>5082859</td>\n",
       "      <td>11859.95</td>\n",
       "    </tr>\n",
       "    <tr>\n",
       "      <th>2</th>\n",
       "      <td>2018-09-26</td>\n",
       "      <td>240.00</td>\n",
       "      <td>240.00</td>\n",
       "      <td>232.50</td>\n",
       "      <td>235.00</td>\n",
       "      <td>234.25</td>\n",
       "      <td>2240909</td>\n",
       "      <td>5248.60</td>\n",
       "    </tr>\n",
       "    <tr>\n",
       "      <th>3</th>\n",
       "      <td>2018-09-25</td>\n",
       "      <td>233.30</td>\n",
       "      <td>236.75</td>\n",
       "      <td>232.00</td>\n",
       "      <td>236.25</td>\n",
       "      <td>236.10</td>\n",
       "      <td>2349368</td>\n",
       "      <td>5503.90</td>\n",
       "    </tr>\n",
       "    <tr>\n",
       "      <th>4</th>\n",
       "      <td>2018-09-24</td>\n",
       "      <td>233.55</td>\n",
       "      <td>239.20</td>\n",
       "      <td>230.75</td>\n",
       "      <td>234.00</td>\n",
       "      <td>233.30</td>\n",
       "      <td>3423509</td>\n",
       "      <td>7999.55</td>\n",
       "    </tr>\n",
       "  </tbody>\n",
       "</table>\n",
       "</div>"
      ],
      "text/plain": [
       "         Date    Open    High     Low    Last   Close  Total Trade Quantity  \\\n",
       "0  2018-09-28  234.05  235.95  230.20  233.50  233.75               3069914   \n",
       "1  2018-09-27  234.55  236.80  231.10  233.80  233.25               5082859   \n",
       "2  2018-09-26  240.00  240.00  232.50  235.00  234.25               2240909   \n",
       "3  2018-09-25  233.30  236.75  232.00  236.25  236.10               2349368   \n",
       "4  2018-09-24  233.55  239.20  230.75  234.00  233.30               3423509   \n",
       "\n",
       "   Turnover (Lacs)  \n",
       "0          7162.35  \n",
       "1         11859.95  \n",
       "2          5248.60  \n",
       "3          5503.90  \n",
       "4          7999.55  "
      ]
     },
     "execution_count": 22,
     "metadata": {},
     "output_type": "execute_result"
    }
   ],
   "source": [
    "dataset_train = pd.read_csv('NSE-TATAGLOBAL.csv')\n",
    "training_set = dataset_train.iloc[:, 1:2].values\n",
    "\n",
    "dataset_train.head()"
   ]
  },
  {
   "cell_type": "code",
   "execution_count": 23,
   "metadata": {},
   "outputs": [
    {
     "name": "stdout",
     "output_type": "stream",
     "text": [
      "[[0.6202352 ]\n",
      " [0.62226277]\n",
      " [0.64436334]\n",
      " [0.61719384]\n",
      " [0.61820762]]\n"
     ]
    }
   ],
   "source": [
    "from sklearn.preprocessing import MinMaxScaler\n",
    "sc = MinMaxScaler(feature_range = (0, 1))\n",
    "training_set_scaled = sc.fit_transform(training_set)\n",
    "print(training_set_scaled[:5])\n"
   ]
  },
  {
   "cell_type": "code",
   "execution_count": 24,
   "metadata": {},
   "outputs": [
    {
     "name": "stdout",
     "output_type": "stream",
     "text": [
      "(1975, 60)\n",
      "(1975,)\n"
     ]
    }
   ],
   "source": [
    "X_train = []\n",
    "y_train = []\n",
    "for i in range(60, 2035):\n",
    "    X_train.append(training_set_scaled[i-60:i, 0])\n",
    "    y_train.append(training_set_scaled[i, 0])\n",
    "X_train, y_train = np.array(X_train), np.array(y_train)\n",
    "print(X_train.shape)\n",
    "print(y_train.shape)"
   ]
  },
  {
   "cell_type": "code",
   "execution_count": 25,
   "metadata": {},
   "outputs": [
    {
     "name": "stdout",
     "output_type": "stream",
     "text": [
      "(1975, 60, 1)\n"
     ]
    }
   ],
   "source": [
    "X_train = np.reshape(X_train, (X_train.shape[0], X_train.shape[1], 1))\n",
    "print(X_train.shape)\n"
   ]
  },
  {
   "cell_type": "code",
   "execution_count": 26,
   "metadata": {},
   "outputs": [
    {
     "name": "stdout",
     "output_type": "stream",
     "text": [
      "Epoch 1/100\n",
      "62/62 [==============================] - 3s 20ms/step - loss: 0.0102\n",
      "Epoch 2/100\n",
      "62/62 [==============================] - 1s 20ms/step - loss: 8.1586e-04\n",
      "Epoch 3/100\n",
      "62/62 [==============================] - 1s 20ms/step - loss: 5.0006e-04\n",
      "Epoch 4/100\n",
      "62/62 [==============================] - 1s 22ms/step - loss: 4.1251e-04\n",
      "Epoch 5/100\n",
      "62/62 [==============================] - 1s 22ms/step - loss: 3.5887e-04\n",
      "Epoch 6/100\n",
      "62/62 [==============================] - 1s 21ms/step - loss: 3.7273e-04\n",
      "Epoch 7/100\n",
      "62/62 [==============================] - 1s 20ms/step - loss: 3.2328e-04\n",
      "Epoch 8/100\n",
      "62/62 [==============================] - 1s 22ms/step - loss: 3.1257e-04\n",
      "Epoch 9/100\n",
      "62/62 [==============================] - 1s 22ms/step - loss: 3.8572e-04\n",
      "Epoch 10/100\n",
      "62/62 [==============================] - 1s 21ms/step - loss: 3.4396e-04\n",
      "Epoch 11/100\n",
      "62/62 [==============================] - 1s 21ms/step - loss: 3.0417e-04\n",
      "Epoch 12/100\n",
      "62/62 [==============================] - 1s 21ms/step - loss: 3.1170e-04\n",
      "Epoch 13/100\n",
      "62/62 [==============================] - 1s 21ms/step - loss: 2.8995e-04\n",
      "Epoch 14/100\n",
      "62/62 [==============================] - 1s 21ms/step - loss: 2.8733e-04\n",
      "Epoch 15/100\n",
      "62/62 [==============================] - 1s 24ms/step - loss: 3.8095e-04\n",
      "Epoch 16/100\n",
      "62/62 [==============================] - 1s 22ms/step - loss: 3.0830e-04\n",
      "Epoch 17/100\n",
      "62/62 [==============================] - 1s 21ms/step - loss: 3.2052e-04\n",
      "Epoch 18/100\n",
      "62/62 [==============================] - 1s 21ms/step - loss: 3.1674e-04\n",
      "Epoch 19/100\n",
      "62/62 [==============================] - 1s 21ms/step - loss: 2.5101e-04\n",
      "Epoch 20/100\n",
      "62/62 [==============================] - 1s 23ms/step - loss: 2.9368e-04\n",
      "Epoch 21/100\n",
      "62/62 [==============================] - 1s 21ms/step - loss: 3.0186e-04\n",
      "Epoch 22/100\n",
      "62/62 [==============================] - 1s 21ms/step - loss: 2.9566e-04\n",
      "Epoch 23/100\n",
      "62/62 [==============================] - 1s 20ms/step - loss: 2.4391e-04\n",
      "Epoch 24/100\n",
      "62/62 [==============================] - 2s 25ms/step - loss: 2.6362e-04\n",
      "Epoch 25/100\n",
      "62/62 [==============================] - 1s 21ms/step - loss: 2.4621e-04\n",
      "Epoch 26/100\n",
      "62/62 [==============================] - 1s 18ms/step - loss: 3.3389e-04\n",
      "Epoch 27/100\n",
      "62/62 [==============================] - 1s 19ms/step - loss: 2.8390e-04\n",
      "Epoch 28/100\n",
      "62/62 [==============================] - 1s 20ms/step - loss: 2.6666e-04\n",
      "Epoch 29/100\n",
      "62/62 [==============================] - 1s 19ms/step - loss: 2.4855e-04\n",
      "Epoch 30/100\n",
      "62/62 [==============================] - 1s 19ms/step - loss: 2.7134e-04\n",
      "Epoch 31/100\n",
      "62/62 [==============================] - 1s 19ms/step - loss: 3.3734e-04\n",
      "Epoch 32/100\n",
      "62/62 [==============================] - 1s 20ms/step - loss: 2.3992e-04\n",
      "Epoch 33/100\n",
      "62/62 [==============================] - 1s 18ms/step - loss: 2.4836e-04\n",
      "Epoch 34/100\n",
      "62/62 [==============================] - 1s 19ms/step - loss: 2.5714e-04\n",
      "Epoch 35/100\n",
      "62/62 [==============================] - 1s 20ms/step - loss: 2.3100e-04\n",
      "Epoch 36/100\n",
      "62/62 [==============================] - 1s 20ms/step - loss: 3.3000e-04\n",
      "Epoch 37/100\n",
      "62/62 [==============================] - 1s 20ms/step - loss: 2.6864e-04\n",
      "Epoch 38/100\n",
      "62/62 [==============================] - 1s 20ms/step - loss: 2.2353e-04\n",
      "Epoch 39/100\n",
      "62/62 [==============================] - 1s 18ms/step - loss: 2.5725e-04\n",
      "Epoch 40/100\n",
      "62/62 [==============================] - 1s 20ms/step - loss: 2.3182e-04\n",
      "Epoch 41/100\n",
      "62/62 [==============================] - 1s 20ms/step - loss: 2.4232e-04\n",
      "Epoch 42/100\n",
      "62/62 [==============================] - 1s 20ms/step - loss: 2.6629e-04\n",
      "Epoch 43/100\n",
      "62/62 [==============================] - 1s 21ms/step - loss: 2.3934e-04\n",
      "Epoch 44/100\n",
      "62/62 [==============================] - 1s 21ms/step - loss: 2.3898e-04\n",
      "Epoch 45/100\n",
      "62/62 [==============================] - 1s 19ms/step - loss: 2.7272e-04\n",
      "Epoch 46/100\n",
      "62/62 [==============================] - 1s 19ms/step - loss: 2.4909e-04\n",
      "Epoch 47/100\n",
      "62/62 [==============================] - 1s 19ms/step - loss: 2.3556e-04\n",
      "Epoch 48/100\n",
      "62/62 [==============================] - 1s 20ms/step - loss: 2.3721e-04\n",
      "Epoch 49/100\n",
      "62/62 [==============================] - 1s 19ms/step - loss: 2.4588e-04\n",
      "Epoch 50/100\n",
      "62/62 [==============================] - 1s 19ms/step - loss: 2.3594e-04\n",
      "Epoch 51/100\n",
      "62/62 [==============================] - 1s 19ms/step - loss: 2.5446e-04\n",
      "Epoch 52/100\n",
      "62/62 [==============================] - 1s 19ms/step - loss: 2.4683e-04\n",
      "Epoch 53/100\n",
      "62/62 [==============================] - 1s 19ms/step - loss: 2.8916e-04\n",
      "Epoch 54/100\n",
      "62/62 [==============================] - 1s 19ms/step - loss: 2.7248e-04\n",
      "Epoch 55/100\n",
      "62/62 [==============================] - 1s 20ms/step - loss: 3.0506e-04\n",
      "Epoch 56/100\n",
      "62/62 [==============================] - 1s 20ms/step - loss: 2.7629e-04\n",
      "Epoch 57/100\n",
      "62/62 [==============================] - 1s 20ms/step - loss: 2.6436e-04\n",
      "Epoch 58/100\n",
      "62/62 [==============================] - 1s 19ms/step - loss: 2.1836e-04\n",
      "Epoch 59/100\n",
      "62/62 [==============================] - 1s 18ms/step - loss: 2.2928e-04\n",
      "Epoch 60/100\n",
      "62/62 [==============================] - 1s 18ms/step - loss: 2.1362e-04\n",
      "Epoch 61/100\n",
      "62/62 [==============================] - 1s 20ms/step - loss: 2.2772e-04\n",
      "Epoch 62/100\n",
      "62/62 [==============================] - 1s 19ms/step - loss: 2.5621e-04\n",
      "Epoch 63/100\n",
      "62/62 [==============================] - 1s 19ms/step - loss: 2.4825e-04\n",
      "Epoch 64/100\n",
      "62/62 [==============================] - 1s 19ms/step - loss: 2.8603e-04\n",
      "Epoch 65/100\n",
      "62/62 [==============================] - 1s 22ms/step - loss: 2.5516e-04\n",
      "Epoch 66/100\n",
      "62/62 [==============================] - 1s 19ms/step - loss: 2.3856e-04\n",
      "Epoch 67/100\n",
      "62/62 [==============================] - 1s 18ms/step - loss: 2.0512e-04\n",
      "Epoch 68/100\n",
      "62/62 [==============================] - 1s 18ms/step - loss: 2.2301e-04\n",
      "Epoch 69/100\n",
      "62/62 [==============================] - 1s 20ms/step - loss: 2.9283e-04\n",
      "Epoch 70/100\n",
      "62/62 [==============================] - 1s 19ms/step - loss: 2.2236e-04\n",
      "Epoch 71/100\n",
      "62/62 [==============================] - 1s 19ms/step - loss: 2.1500e-04\n",
      "Epoch 72/100\n",
      "62/62 [==============================] - 1s 18ms/step - loss: 2.4600e-04\n",
      "Epoch 73/100\n",
      "62/62 [==============================] - 1s 19ms/step - loss: 2.7389e-04\n",
      "Epoch 74/100\n",
      "62/62 [==============================] - 1s 23ms/step - loss: 2.1536e-04\n",
      "Epoch 75/100\n",
      "62/62 [==============================] - 1s 19ms/step - loss: 2.1944e-04\n",
      "Epoch 76/100\n",
      "62/62 [==============================] - 1s 19ms/step - loss: 2.6618e-04\n",
      "Epoch 77/100\n",
      "62/62 [==============================] - 1s 19ms/step - loss: 2.3868e-04\n",
      "Epoch 78/100\n",
      "62/62 [==============================] - 1s 21ms/step - loss: 2.5608e-04\n",
      "Epoch 79/100\n",
      "62/62 [==============================] - 1s 23ms/step - loss: 2.3343e-04\n",
      "Epoch 80/100\n",
      "62/62 [==============================] - 1s 20ms/step - loss: 2.5240e-04\n",
      "Epoch 81/100\n",
      "62/62 [==============================] - 1s 19ms/step - loss: 2.3241e-04\n",
      "Epoch 82/100\n",
      "62/62 [==============================] - 1s 18ms/step - loss: 2.1649e-04\n",
      "Epoch 83/100\n",
      "62/62 [==============================] - 1s 18ms/step - loss: 2.0351e-04\n",
      "Epoch 84/100\n",
      "62/62 [==============================] - 1s 20ms/step - loss: 2.2916e-04\n",
      "Epoch 85/100\n",
      "62/62 [==============================] - 1s 20ms/step - loss: 2.0874e-04\n",
      "Epoch 86/100\n",
      "62/62 [==============================] - 1s 19ms/step - loss: 2.2993e-04\n",
      "Epoch 87/100\n",
      "62/62 [==============================] - 1s 18ms/step - loss: 2.4490e-04\n",
      "Epoch 88/100\n",
      "62/62 [==============================] - 1s 18ms/step - loss: 2.5867e-04\n",
      "Epoch 89/100\n",
      "62/62 [==============================] - 1s 16ms/step - loss: 2.3631e-04\n",
      "Epoch 90/100\n",
      "62/62 [==============================] - 1s 18ms/step - loss: 2.5035e-04\n",
      "Epoch 91/100\n",
      "62/62 [==============================] - 1s 17ms/step - loss: 2.3814e-04\n",
      "Epoch 92/100\n",
      "62/62 [==============================] - 1s 17ms/step - loss: 2.3963e-04\n",
      "Epoch 93/100\n",
      "62/62 [==============================] - 1s 17ms/step - loss: 2.1656e-04\n",
      "Epoch 94/100\n",
      "62/62 [==============================] - 1s 17ms/step - loss: 2.3872e-04\n",
      "Epoch 95/100\n",
      "62/62 [==============================] - 1s 18ms/step - loss: 2.2544e-04\n",
      "Epoch 96/100\n",
      "62/62 [==============================] - 1s 17ms/step - loss: 2.3330e-04\n",
      "Epoch 97/100\n",
      "62/62 [==============================] - 1s 19ms/step - loss: 2.2018e-04\n",
      "Epoch 98/100\n",
      "62/62 [==============================] - 1s 18ms/step - loss: 2.2528e-04\n",
      "Epoch 99/100\n",
      "62/62 [==============================] - 1s 20ms/step - loss: 2.2366e-04\n",
      "Epoch 100/100\n",
      "62/62 [==============================] - 2s 29ms/step - loss: 2.1410e-04\n"
     ]
    },
    {
     "data": {
      "text/plain": [
       "<keras.callbacks.History at 0x217a5b48eb0>"
      ]
     },
     "execution_count": 26,
     "metadata": {},
     "output_type": "execute_result"
    }
   ],
   "source": [
    "from keras.models import Sequential\n",
    "from keras.layers import Dense, LSTM, Dropout, SimpleRNN\n",
    "\n",
    "regressor = Sequential()\n",
    "\n",
    "regressor.add(SimpleRNN(units = 50, return_sequences = True, input_shape = (X_train.shape[1], 1)))\n",
    "regressor.add(SimpleRNN(units = 50, return_sequences = False))\n",
    "# Adding the output layers\n",
    "regressor.add(Dense(units = 1))\n",
    "\n",
    "# Compiling the RNN\n",
    "regressor.compile(optimizer = 'adam', loss = 'mean_squared_error')\n",
    "\n",
    "# Fitting the RNN to the Training set\n",
    "regressor.fit(X_train, y_train, epochs = 5, batch_size = 32)\n",
    "\n",
    "\n"
   ]
  },
  {
   "cell_type": "code",
   "execution_count": 27,
   "metadata": {},
   "outputs": [],
   "source": [
    "dataset_test = pd.read_csv('tatatest.csv')\n",
    "real_stock_price = dataset_test.iloc[:, 1:2].values\n",
    "    "
   ]
  },
  {
   "cell_type": "code",
   "execution_count": 28,
   "metadata": {},
   "outputs": [
    {
     "name": "stdout",
     "output_type": "stream",
     "text": [
      "(76, 1)\n"
     ]
    }
   ],
   "source": [
    "dataset_total = pd.concat((dataset_train['Open'], dataset_test['Open']), axis = 0)\n",
    "inputs = dataset_total[len(dataset_total) - len(dataset_test) - 60:].values\n",
    "inputs = inputs.reshape(-1,1)\n",
    "inputs = sc.transform(inputs)\n",
    "print(inputs.shape)\n",
    "    "
   ]
  },
  {
   "cell_type": "code",
   "execution_count": 29,
   "metadata": {},
   "outputs": [
    {
     "name": "stdout",
     "output_type": "stream",
     "text": [
      "(16, 60)\n",
      "(16, 60, 1)\n"
     ]
    }
   ],
   "source": [
    "X_test = []\n",
    "for i in range(60, 76):\n",
    "    X_test.append(inputs[i-60:i, 0])\n",
    "X_test = np.array(X_test)\n",
    "print(X_test.shape)\n",
    "X_test = np.reshape(X_test, (X_test.shape[0], X_test.shape[1], 1))\n",
    "print(X_test.shape)"
   ]
  },
  {
   "cell_type": "code",
   "execution_count": 30,
   "metadata": {},
   "outputs": [
    {
     "name": "stdout",
     "output_type": "stream",
     "text": [
      "(16, 1)\n"
     ]
    }
   ],
   "source": [
    "predicted_stock_price = regressor.predict(X_test)\n",
    "predicted_stock_price = sc.inverse_transform(predicted_stock_price)\n",
    "print(predicted_stock_price.shape)\n",
    "    "
   ]
  },
  {
   "cell_type": "code",
   "execution_count": 33,
   "metadata": {},
   "outputs": [
    {
     "data": {
      "image/png": "[encoded data removed]",
      "text/plain": [
       "<Figure size 1152x576 with 1 Axes>"
      ]
     },
     "metadata": {
      "needs_background": "light"
     },
     "output_type": "display_data"
    }
   ],
   "source": [
    "plt.figure(figsize=(16,8))\n",
    "plt.plot(real_stock_price, color = 'red', label = 'Real TATA Stock Price')\n",
    "plt.plot(predicted_stock_price, color = 'blue', label = 'Predicted TATA Stock Price')\n",
    "plt.title('TATA Stock Price Prediction')\n",
    "plt.xlabel('Time')\n",
    "plt.ylabel('TATA Stock Price')\n",
    "plt.legend()\n",
    "plt.show()"
   ]
  }
 ],
 "metadata": {
  "kernelspec": {
   "display_name": "Python 3.9.7 64-bit",
   "language": "python",
   "name": "python3"
  },
  "language_info": {
   "codemirror_mode": {
    "name": "ipython",
    "version": 3
   },
   "file_extension": ".py",
   "mimetype": "text/x-python",
   "name": "python",
   "nbconvert_exporter": "python",
   "pygments_lexer": "ipython3",
   "version": "3.9.7"
  },
  "orig_nbformat": 4,
  "vscode": {
   "interpreter": {
    "hash": "14958d3aee5f1cad06795f787e54b96185c25fb40dfec723a5be941f3a531b8c"
   }
  }
 },
 "nbformat": 4,
 "nbformat_minor": 2
}
