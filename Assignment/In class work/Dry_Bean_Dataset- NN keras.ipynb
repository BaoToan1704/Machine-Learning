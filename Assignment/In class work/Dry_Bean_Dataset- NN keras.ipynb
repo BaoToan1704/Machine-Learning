{
 "cells": [
  {
   "cell_type": "code",
   "execution_count": null,
   "id": "f86ab1a2",
   "metadata": {},
   "outputs": [],
   "source": [
    "import pandas as pd\n",
    "import numpy as np\n",
    "import seaborn as sns\n",
    "import matplotlib.pyplot as plt\n"
   ]
  },
  {
   "cell_type": "code",
   "execution_count": null,
   "id": "c13a00a4",
   "metadata": {},
   "outputs": [
    {
     "name": "stdout",
     "output_type": "stream",
     "text": [
      "(13611, 17)\n",
      "                          0           1           2           3           4\n",
      "Area                  28395       28734       29380       30008       30140\n",
      "Perimeter           610.291     638.018      624.11     645.884     620.134\n",
      "MajorAxisLength  208.178117  200.524796   212.82613  210.557999  201.847882\n",
      "MinorAxisLength  173.888747  182.734419  175.931143  182.516516  190.279279\n",
      "AspectRation       1.197191    1.097356    1.209713    1.153638    1.060798\n",
      "Eccentricity       0.549812    0.411785    0.562727    0.498616     0.33368\n",
      "ConvexArea            28715       29172       29690       30724       30417\n",
      "EquivDiameter    190.141097   191.27275  193.410904  195.467062  195.896503\n",
      "Extent             0.763923    0.783968    0.778113    0.782681    0.773098\n",
      "Solidity           0.988856    0.984986    0.989559    0.976696    0.990893\n",
      "roundness          0.958027    0.887034    0.947849    0.903936    0.984877\n",
      "Compactness        0.913358    0.953861    0.908774    0.928329    0.970516\n",
      "ShapeFactor1       0.007332    0.006979    0.007244    0.007017    0.006697\n",
      "ShapeFactor2       0.003147    0.003564    0.003048    0.003215    0.003665\n",
      "ShapeFactor3       0.834222    0.909851    0.825871    0.861794      0.9419\n",
      "ShapeFactor4       0.998724     0.99843    0.999066    0.994199    0.999166\n",
      "Class                 SEKER       SEKER       SEKER       SEKER       SEKER\n"
     ]
    }
   ],
   "source": [
    "#import Data\n",
    "xl = pd.ExcelFile('Dry_Bean_Dataset.xlsx')\n",
    "df = xl.parse(xl.sheet_names[0])\n",
    "print(df.shape)\n",
    "print(df.head(5).T)"
   ]
  },
  {
   "cell_type": "code",
   "execution_count": null,
   "id": "ea228699",
   "metadata": {},
   "outputs": [
    {
     "name": "stdout",
     "output_type": "stream",
     "text": [
      "(13611, 16)\n",
      "(13611,)\n"
     ]
    }
   ],
   "source": [
    "X=df.drop('Class',axis =1).values\n",
    "y = df['Class'].values\n",
    "print(X.shape)\n",
    "print(y.shape)"
   ]
  },
  {
   "cell_type": "code",
   "execution_count": null,
   "id": "97d3d341",
   "metadata": {},
   "outputs": [
    {
     "name": "stdout",
     "output_type": "stream",
     "text": [
      "['SEKER' 'BARBUNYA' 'BOMBAY' 'CALI' 'HOROZ' 'SIRA' 'DERMASON']\n",
      "DERMASON    3546\n",
      "SIRA        2636\n",
      "SEKER       2027\n",
      "HOROZ       1928\n",
      "CALI        1630\n",
      "BARBUNYA    1322\n",
      "BOMBAY       522\n",
      "Name: Class, dtype: int64\n"
     ]
    },
    {
     "data": {
      "text/plain": [
       "<AxesSubplot:>"
      ]
     },
     "execution_count": 4,
     "metadata": {},
     "output_type": "execute_result"
    },
    {
     "data": {
      "image/png": "[encoded data removed]",
      "text/plain": [
       "<Figure size 432x288 with 1 Axes>"
      ]
     },
     "metadata": {
      "needs_background": "light"
     },
     "output_type": "display_data"
    }
   ],
   "source": [
    "print(df['Class'].unique())\n",
    "print(df['Class'].value_counts())\n",
    "df['Class'].value_counts().plot.bar()"
   ]
  },
  {
   "cell_type": "code",
   "execution_count": null,
   "id": "b9bf257f",
   "metadata": {},
   "outputs": [
    {
     "name": "stdout",
     "output_type": "stream",
     "text": [
      "7\n"
     ]
    }
   ],
   "source": [
    "from sklearn.preprocessing import LabelEncoder\n",
    "encoder = LabelEncoder()\n",
    "y = encoder.fit_transform(y)\n",
    "print(len(df['Class'].value_counts()))"
   ]
  },
  {
   "cell_type": "code",
   "execution_count": null,
   "id": "212cd1fa",
   "metadata": {},
   "outputs": [
    {
     "name": "stdout",
     "output_type": "stream",
     "text": [
      "(9119, 16)\n",
      "(9119,)\n",
      "(4492, 16)\n",
      "(4492,)\n"
     ]
    }
   ],
   "source": [
    "#splitting Train and Test \n",
    "from sklearn.model_selection import train_test_split\n",
    "X_train, X_test, y_train, y_test = train_test_split(X, y, test_size=0.33, random_state=101)\n",
    "\n",
    "print(X_train.shape)\n",
    "print(y_train.shape)\n",
    "print(X_test.shape)\n",
    "print(y_test.shape)"
   ]
  },
  {
   "cell_type": "code",
   "execution_count": null,
   "id": "7d86102b",
   "metadata": {},
   "outputs": [
    {
     "name": "stderr",
     "output_type": "stream",
     "text": [
      "C:\\Users\\ASUS\\AppData\\Local\\Temp\\ipykernel_21568\\2310471181.py:3: DeprecationWarning: `np.float` is a deprecated alias for the builtin `float`. To silence this warning, use `float` by itself. Doing this will not modify any behavior and is safe. If you specifically wanted the numpy scalar type, use `np.float64` here.\n",
      "Deprecated in NumPy 1.20; for more details and guidance: https://numpy.org/devdocs/release/1.20.0-notes.html#deprecations\n",
      "  X_train = s_scaler.fit_transform(X_train.astype(np.float))\n",
      "C:\\Users\\ASUS\\AppData\\Local\\Temp\\ipykernel_21568\\2310471181.py:4: DeprecationWarning: `np.float` is a deprecated alias for the builtin `float`. To silence this warning, use `float` by itself. Doing this will not modify any behavior and is safe. If you specifically wanted the numpy scalar type, use `np.float64` here.\n",
      "Deprecated in NumPy 1.20; for more details and guidance: https://numpy.org/devdocs/release/1.20.0-notes.html#deprecations\n",
      "  X_test = s_scaler.transform(X_test.astype(np.float))\n"
     ]
    }
   ],
   "source": [
    "from sklearn.preprocessing import StandardScaler\n",
    "s_scaler = StandardScaler()\n",
    "X_train = s_scaler.fit_transform(X_train.astype(np.float))\n",
    "X_test = s_scaler.transform(X_test.astype(np.float))"
   ]
  },
  {
   "cell_type": "code",
   "execution_count": null,
   "id": "c2d72032",
   "metadata": {},
   "outputs": [
    {
     "name": "stdout",
     "output_type": "stream",
     "text": [
      "[[0. 0. 0. 1. 0. 0. 0.]\n",
      " [0. 0. 0. 0. 0. 0. 1.]]\n"
     ]
    }
   ],
   "source": [
    "from tensorflow.keras.utils import to_categorical\n",
    "y_train = to_categorical(y_train)\n",
    "print(y_train[:2])"
   ]
  },
  {
   "cell_type": "code",
   "execution_count": null,
   "id": "24cb563f",
   "metadata": {},
   "outputs": [],
   "source": [
    "# Creating a Neural Network Model\n",
    "import tensorflow as tf\n",
    "from tensorflow.keras.models import Sequential\n",
    "from tensorflow.keras.layers import Dense, Activation\n",
    "from tensorflow.keras.optimizers import Adam"
   ]
  },
  {
   "cell_type": "code",
   "execution_count": null,
   "id": "aed0f6de",
   "metadata": {},
   "outputs": [],
   "source": [
    "model = Sequential()\n",
    "model.add(Dense(32, activation='relu'))\n",
    "model.add(Dense(32, activation='relu'))\n",
    "model.add(Dense(32, activation='relu'))\n",
    "model.add(Dense(16, activation='relu'))\n",
    "model.add(Dense(7,activation='softmax'))\n",
    "model.compile(loss='categorical_crossentropy', optimizer='adam', \n",
    "              metrics=['accuracy'])"
   ]
  },
  {
   "cell_type": "code",
   "execution_count": null,
   "id": "7cc497b5",
   "metadata": {},
   "outputs": [
    {
     "name": "stdout",
     "output_type": "stream",
     "text": [
      "Epoch 1/100\n",
      "57/57 [==============================] - 1s 8ms/step - loss: 1.6916 - accuracy: 0.4521 - val_loss: 1.2420 - val_accuracy: 0.6288\n",
      "Epoch 2/100\n",
      "57/57 [==============================] - 0s 4ms/step - loss: 0.7558 - accuracy: 0.7700 - val_loss: 0.4589 - val_accuracy: 0.8481\n",
      "Epoch 3/100\n",
      "57/57 [==============================] - 0s 3ms/step - loss: 0.3649 - accuracy: 0.8861 - val_loss: 0.2951 - val_accuracy: 0.9095\n",
      "Epoch 4/100\n",
      "57/57 [==============================] - 0s 3ms/step - loss: 0.2716 - accuracy: 0.9079 - val_loss: 0.2474 - val_accuracy: 0.9200\n",
      "Epoch 5/100\n",
      "57/57 [==============================] - 0s 3ms/step - loss: 0.2422 - accuracy: 0.9156 - val_loss: 0.2408 - val_accuracy: 0.9145\n",
      "Epoch 6/100\n",
      "57/57 [==============================] - 0s 3ms/step - loss: 0.2268 - accuracy: 0.9215 - val_loss: 0.2310 - val_accuracy: 0.9167\n",
      "Epoch 7/100\n",
      "57/57 [==============================] - 0s 4ms/step - loss: 0.2175 - accuracy: 0.9234 - val_loss: 0.2257 - val_accuracy: 0.9194\n",
      "Epoch 8/100\n",
      "57/57 [==============================] - 0s 3ms/step - loss: 0.2133 - accuracy: 0.9241 - val_loss: 0.2175 - val_accuracy: 0.9232\n",
      "Epoch 9/100\n",
      "57/57 [==============================] - 0s 3ms/step - loss: 0.2107 - accuracy: 0.9254 - val_loss: 0.2140 - val_accuracy: 0.9194\n",
      "Epoch 10/100\n",
      "57/57 [==============================] - 0s 3ms/step - loss: 0.2036 - accuracy: 0.9269 - val_loss: 0.2137 - val_accuracy: 0.9216\n",
      "Epoch 11/100\n",
      "57/57 [==============================] - 0s 3ms/step - loss: 0.2022 - accuracy: 0.9295 - val_loss: 0.2104 - val_accuracy: 0.9227\n",
      "Epoch 12/100\n",
      "57/57 [==============================] - 0s 3ms/step - loss: 0.1994 - accuracy: 0.9287 - val_loss: 0.2142 - val_accuracy: 0.9221\n",
      "Epoch 13/100\n",
      "57/57 [==============================] - 0s 3ms/step - loss: 0.1946 - accuracy: 0.9271 - val_loss: 0.2178 - val_accuracy: 0.9183\n",
      "Epoch 14/100\n",
      "57/57 [==============================] - 0s 3ms/step - loss: 0.1958 - accuracy: 0.9294 - val_loss: 0.2085 - val_accuracy: 0.9243\n",
      "Epoch 15/100\n",
      "57/57 [==============================] - 0s 3ms/step - loss: 0.1929 - accuracy: 0.9302 - val_loss: 0.2088 - val_accuracy: 0.9271\n",
      "Epoch 16/100\n",
      "57/57 [==============================] - 0s 3ms/step - loss: 0.1946 - accuracy: 0.9293 - val_loss: 0.2077 - val_accuracy: 0.9232\n",
      "Epoch 17/100\n",
      "57/57 [==============================] - 0s 3ms/step - loss: 0.1921 - accuracy: 0.9302 - val_loss: 0.2119 - val_accuracy: 0.9227\n",
      "Epoch 18/100\n",
      "57/57 [==============================] - 0s 3ms/step - loss: 0.1904 - accuracy: 0.9308 - val_loss: 0.2040 - val_accuracy: 0.9238\n",
      "Epoch 19/100\n",
      "57/57 [==============================] - 0s 3ms/step - loss: 0.1875 - accuracy: 0.9345 - val_loss: 0.2073 - val_accuracy: 0.9227\n",
      "Epoch 20/100\n",
      "57/57 [==============================] - 0s 3ms/step - loss: 0.1878 - accuracy: 0.9319 - val_loss: 0.2094 - val_accuracy: 0.9205\n",
      "Epoch 21/100\n",
      "57/57 [==============================] - 0s 3ms/step - loss: 0.1880 - accuracy: 0.9317 - val_loss: 0.2011 - val_accuracy: 0.9243\n",
      "Epoch 22/100\n",
      "57/57 [==============================] - 0s 3ms/step - loss: 0.1851 - accuracy: 0.9345 - val_loss: 0.2066 - val_accuracy: 0.9232\n",
      "Epoch 23/100\n",
      "57/57 [==============================] - 0s 3ms/step - loss: 0.1859 - accuracy: 0.9331 - val_loss: 0.2058 - val_accuracy: 0.9232\n",
      "Epoch 24/100\n",
      "57/57 [==============================] - 0s 3ms/step - loss: 0.1862 - accuracy: 0.9320 - val_loss: 0.2064 - val_accuracy: 0.9221\n",
      "Epoch 25/100\n",
      "57/57 [==============================] - 0s 3ms/step - loss: 0.1818 - accuracy: 0.9331 - val_loss: 0.2016 - val_accuracy: 0.9238\n",
      "Epoch 26/100\n",
      "57/57 [==============================] - 0s 3ms/step - loss: 0.1831 - accuracy: 0.9332 - val_loss: 0.2036 - val_accuracy: 0.9271\n",
      "Epoch 27/100\n",
      "57/57 [==============================] - 0s 3ms/step - loss: 0.1839 - accuracy: 0.9321 - val_loss: 0.1991 - val_accuracy: 0.9254\n",
      "Epoch 28/100\n",
      "57/57 [==============================] - 0s 3ms/step - loss: 0.1820 - accuracy: 0.9345 - val_loss: 0.2083 - val_accuracy: 0.9211\n",
      "Epoch 29/100\n",
      "57/57 [==============================] - 0s 4ms/step - loss: 0.1830 - accuracy: 0.9330 - val_loss: 0.2048 - val_accuracy: 0.9227\n",
      "Epoch 30/100\n",
      "57/57 [==============================] - 0s 3ms/step - loss: 0.1808 - accuracy: 0.9350 - val_loss: 0.2010 - val_accuracy: 0.9249\n",
      "Epoch 31/100\n",
      "57/57 [==============================] - 0s 3ms/step - loss: 0.1799 - accuracy: 0.9346 - val_loss: 0.2002 - val_accuracy: 0.9260\n",
      "Epoch 32/100\n",
      "57/57 [==============================] - 0s 4ms/step - loss: 0.1801 - accuracy: 0.9341 - val_loss: 0.1989 - val_accuracy: 0.9254\n",
      "Epoch 33/100\n",
      "57/57 [==============================] - 0s 3ms/step - loss: 0.1762 - accuracy: 0.9352 - val_loss: 0.1998 - val_accuracy: 0.9249\n",
      "Epoch 34/100\n",
      "57/57 [==============================] - 0s 3ms/step - loss: 0.1784 - accuracy: 0.9337 - val_loss: 0.1988 - val_accuracy: 0.9287\n",
      "Epoch 35/100\n",
      "57/57 [==============================] - 0s 4ms/step - loss: 0.1773 - accuracy: 0.9345 - val_loss: 0.1972 - val_accuracy: 0.9271\n",
      "Epoch 36/100\n",
      "57/57 [==============================] - 0s 3ms/step - loss: 0.1782 - accuracy: 0.9346 - val_loss: 0.1994 - val_accuracy: 0.9238\n",
      "Epoch 37/100\n",
      "57/57 [==============================] - 0s 3ms/step - loss: 0.1768 - accuracy: 0.9363 - val_loss: 0.2021 - val_accuracy: 0.9276\n",
      "Epoch 38/100\n",
      "57/57 [==============================] - 0s 4ms/step - loss: 0.1776 - accuracy: 0.9364 - val_loss: 0.2004 - val_accuracy: 0.9227\n",
      "Epoch 39/100\n",
      "57/57 [==============================] - 0s 3ms/step - loss: 0.1749 - accuracy: 0.9360 - val_loss: 0.1946 - val_accuracy: 0.9271\n",
      "Epoch 40/100\n",
      "57/57 [==============================] - 0s 3ms/step - loss: 0.1769 - accuracy: 0.9346 - val_loss: 0.2030 - val_accuracy: 0.9249\n",
      "Epoch 41/100\n",
      "57/57 [==============================] - 0s 3ms/step - loss: 0.1774 - accuracy: 0.9327 - val_loss: 0.2010 - val_accuracy: 0.9221\n",
      "Epoch 42/100\n",
      "57/57 [==============================] - 0s 3ms/step - loss: 0.1766 - accuracy: 0.9361 - val_loss: 0.2003 - val_accuracy: 0.9260\n",
      "Epoch 43/100\n",
      "57/57 [==============================] - 0s 4ms/step - loss: 0.1734 - accuracy: 0.9364 - val_loss: 0.2046 - val_accuracy: 0.9216\n",
      "Epoch 44/100\n",
      "57/57 [==============================] - 0s 3ms/step - loss: 0.1734 - accuracy: 0.9357 - val_loss: 0.2000 - val_accuracy: 0.9254\n",
      "Epoch 45/100\n",
      "57/57 [==============================] - 0s 3ms/step - loss: 0.1725 - accuracy: 0.9346 - val_loss: 0.2025 - val_accuracy: 0.9265\n",
      "Epoch 46/100\n",
      "57/57 [==============================] - 0s 5ms/step - loss: 0.1715 - accuracy: 0.9389 - val_loss: 0.2051 - val_accuracy: 0.9221\n",
      "Epoch 47/100\n",
      "57/57 [==============================] - 0s 3ms/step - loss: 0.1714 - accuracy: 0.9374 - val_loss: 0.2015 - val_accuracy: 0.9243\n",
      "Epoch 48/100\n",
      "57/57 [==============================] - 0s 3ms/step - loss: 0.1725 - accuracy: 0.9382 - val_loss: 0.1989 - val_accuracy: 0.9260\n",
      "Epoch 49/100\n",
      "57/57 [==============================] - 0s 3ms/step - loss: 0.1697 - accuracy: 0.9376 - val_loss: 0.2068 - val_accuracy: 0.9287\n",
      "Epoch 50/100\n",
      "57/57 [==============================] - 0s 4ms/step - loss: 0.1703 - accuracy: 0.9379 - val_loss: 0.1979 - val_accuracy: 0.9271\n",
      "Epoch 51/100\n",
      "57/57 [==============================] - 0s 3ms/step - loss: 0.1691 - accuracy: 0.9368 - val_loss: 0.1994 - val_accuracy: 0.9276\n",
      "Epoch 52/100\n",
      "57/57 [==============================] - 0s 3ms/step - loss: 0.1701 - accuracy: 0.9358 - val_loss: 0.1973 - val_accuracy: 0.9287\n",
      "Epoch 53/100\n",
      "57/57 [==============================] - 0s 3ms/step - loss: 0.1686 - accuracy: 0.9365 - val_loss: 0.1967 - val_accuracy: 0.9282\n",
      "Epoch 54/100\n",
      "57/57 [==============================] - 0s 3ms/step - loss: 0.1695 - accuracy: 0.9393 - val_loss: 0.2011 - val_accuracy: 0.9249\n",
      "Epoch 55/100\n",
      "57/57 [==============================] - 0s 3ms/step - loss: 0.1685 - accuracy: 0.9386 - val_loss: 0.2006 - val_accuracy: 0.9227\n",
      "Epoch 56/100\n",
      "57/57 [==============================] - 0s 3ms/step - loss: 0.1702 - accuracy: 0.9360 - val_loss: 0.2037 - val_accuracy: 0.9227\n",
      "Epoch 57/100\n",
      "57/57 [==============================] - 0s 4ms/step - loss: 0.1680 - accuracy: 0.9386 - val_loss: 0.1969 - val_accuracy: 0.9287\n",
      "Epoch 58/100\n",
      "57/57 [==============================] - 0s 3ms/step - loss: 0.1676 - accuracy: 0.9391 - val_loss: 0.2002 - val_accuracy: 0.9260\n",
      "Epoch 59/100\n",
      "57/57 [==============================] - 0s 3ms/step - loss: 0.1653 - accuracy: 0.9363 - val_loss: 0.2019 - val_accuracy: 0.9254\n",
      "Epoch 60/100\n",
      "57/57 [==============================] - 0s 4ms/step - loss: 0.1652 - accuracy: 0.9385 - val_loss: 0.2015 - val_accuracy: 0.9254\n",
      "Epoch 61/100\n",
      "57/57 [==============================] - 0s 3ms/step - loss: 0.1657 - accuracy: 0.9380 - val_loss: 0.2052 - val_accuracy: 0.9249\n",
      "Epoch 62/100\n",
      "57/57 [==============================] - 0s 3ms/step - loss: 0.1645 - accuracy: 0.9389 - val_loss: 0.2038 - val_accuracy: 0.9260\n",
      "Epoch 63/100\n",
      "57/57 [==============================] - 0s 3ms/step - loss: 0.1635 - accuracy: 0.9395 - val_loss: 0.1969 - val_accuracy: 0.9276\n",
      "Epoch 64/100\n",
      "57/57 [==============================] - 0s 3ms/step - loss: 0.1631 - accuracy: 0.9382 - val_loss: 0.2004 - val_accuracy: 0.9254\n",
      "Epoch 65/100\n",
      "57/57 [==============================] - 0s 3ms/step - loss: 0.1645 - accuracy: 0.9354 - val_loss: 0.2050 - val_accuracy: 0.9260\n",
      "Epoch 66/100\n",
      "57/57 [==============================] - 0s 3ms/step - loss: 0.1680 - accuracy: 0.9371 - val_loss: 0.2178 - val_accuracy: 0.9221\n",
      "Epoch 67/100\n",
      "57/57 [==============================] - 0s 3ms/step - loss: 0.1662 - accuracy: 0.9364 - val_loss: 0.1990 - val_accuracy: 0.9265\n",
      "Epoch 68/100\n",
      "57/57 [==============================] - 0s 3ms/step - loss: 0.1644 - accuracy: 0.9376 - val_loss: 0.2029 - val_accuracy: 0.9271\n",
      "Epoch 69/100\n",
      "57/57 [==============================] - 0s 3ms/step - loss: 0.1638 - accuracy: 0.9390 - val_loss: 0.2028 - val_accuracy: 0.9276\n",
      "Epoch 70/100\n",
      "57/57 [==============================] - 0s 3ms/step - loss: 0.1659 - accuracy: 0.9376 - val_loss: 0.2044 - val_accuracy: 0.9260\n",
      "Epoch 71/100\n",
      "57/57 [==============================] - 0s 3ms/step - loss: 0.1615 - accuracy: 0.9385 - val_loss: 0.1987 - val_accuracy: 0.9232\n",
      "Epoch 72/100\n",
      "57/57 [==============================] - 0s 3ms/step - loss: 0.1604 - accuracy: 0.9397 - val_loss: 0.1998 - val_accuracy: 0.9265\n",
      "Epoch 73/100\n",
      "57/57 [==============================] - 0s 3ms/step - loss: 0.1595 - accuracy: 0.9394 - val_loss: 0.1998 - val_accuracy: 0.9298\n",
      "Epoch 74/100\n",
      "57/57 [==============================] - 0s 3ms/step - loss: 0.1606 - accuracy: 0.9409 - val_loss: 0.2122 - val_accuracy: 0.9232\n",
      "Epoch 75/100\n",
      "57/57 [==============================] - 0s 4ms/step - loss: 0.1614 - accuracy: 0.9385 - val_loss: 0.2010 - val_accuracy: 0.9309\n",
      "Epoch 76/100\n",
      "57/57 [==============================] - 0s 3ms/step - loss: 0.1613 - accuracy: 0.9424 - val_loss: 0.2036 - val_accuracy: 0.9254\n",
      "Epoch 77/100\n",
      "57/57 [==============================] - 0s 3ms/step - loss: 0.1605 - accuracy: 0.9393 - val_loss: 0.2023 - val_accuracy: 0.9287\n",
      "Epoch 78/100\n",
      "57/57 [==============================] - 0s 3ms/step - loss: 0.1596 - accuracy: 0.9405 - val_loss: 0.2052 - val_accuracy: 0.9260\n",
      "Epoch 79/100\n",
      "57/57 [==============================] - 0s 3ms/step - loss: 0.1606 - accuracy: 0.9383 - val_loss: 0.2104 - val_accuracy: 0.9205\n",
      "Epoch 80/100\n",
      "57/57 [==============================] - 0s 3ms/step - loss: 0.1589 - accuracy: 0.9409 - val_loss: 0.2036 - val_accuracy: 0.9265\n",
      "Epoch 81/100\n",
      "57/57 [==============================] - 0s 3ms/step - loss: 0.1636 - accuracy: 0.9389 - val_loss: 0.2058 - val_accuracy: 0.9260\n",
      "Epoch 82/100\n",
      "57/57 [==============================] - 0s 3ms/step - loss: 0.1609 - accuracy: 0.9408 - val_loss: 0.2000 - val_accuracy: 0.9249\n",
      "Epoch 83/100\n",
      "57/57 [==============================] - 0s 3ms/step - loss: 0.1570 - accuracy: 0.9413 - val_loss: 0.2020 - val_accuracy: 0.9287\n",
      "Epoch 84/100\n",
      "57/57 [==============================] - 0s 3ms/step - loss: 0.1610 - accuracy: 0.9398 - val_loss: 0.2011 - val_accuracy: 0.9271\n",
      "Epoch 85/100\n",
      "57/57 [==============================] - 0s 3ms/step - loss: 0.1583 - accuracy: 0.9393 - val_loss: 0.2054 - val_accuracy: 0.9282\n",
      "Epoch 86/100\n",
      "57/57 [==============================] - 0s 3ms/step - loss: 0.1577 - accuracy: 0.9393 - val_loss: 0.2033 - val_accuracy: 0.9287\n",
      "Epoch 87/100\n",
      "57/57 [==============================] - 0s 4ms/step - loss: 0.1583 - accuracy: 0.9401 - val_loss: 0.2049 - val_accuracy: 0.9265\n",
      "Epoch 88/100\n",
      "57/57 [==============================] - 0s 3ms/step - loss: 0.1562 - accuracy: 0.9394 - val_loss: 0.2029 - val_accuracy: 0.9243\n",
      "Epoch 89/100\n",
      "57/57 [==============================] - 0s 3ms/step - loss: 0.1550 - accuracy: 0.9415 - val_loss: 0.2092 - val_accuracy: 0.9254\n",
      "Epoch 90/100\n",
      "57/57 [==============================] - 0s 3ms/step - loss: 0.1578 - accuracy: 0.9422 - val_loss: 0.2060 - val_accuracy: 0.9254\n",
      "Epoch 91/100\n",
      "57/57 [==============================] - 0s 3ms/step - loss: 0.1561 - accuracy: 0.9409 - val_loss: 0.2040 - val_accuracy: 0.9260\n",
      "Epoch 92/100\n",
      "57/57 [==============================] - 0s 3ms/step - loss: 0.1549 - accuracy: 0.9411 - val_loss: 0.2092 - val_accuracy: 0.9243\n",
      "Epoch 93/100\n",
      "57/57 [==============================] - 0s 3ms/step - loss: 0.1552 - accuracy: 0.9409 - val_loss: 0.2041 - val_accuracy: 0.9260\n",
      "Epoch 94/100\n",
      "57/57 [==============================] - 0s 3ms/step - loss: 0.1538 - accuracy: 0.9395 - val_loss: 0.2082 - val_accuracy: 0.9276\n",
      "Epoch 95/100\n",
      "57/57 [==============================] - 0s 3ms/step - loss: 0.1562 - accuracy: 0.9413 - val_loss: 0.2054 - val_accuracy: 0.9276\n",
      "Epoch 96/100\n",
      "57/57 [==============================] - 0s 3ms/step - loss: 0.1544 - accuracy: 0.9412 - val_loss: 0.2054 - val_accuracy: 0.9265\n",
      "Epoch 97/100\n",
      "57/57 [==============================] - 0s 3ms/step - loss: 0.1539 - accuracy: 0.9438 - val_loss: 0.2106 - val_accuracy: 0.9238\n",
      "Epoch 98/100\n",
      "57/57 [==============================] - 0s 3ms/step - loss: 0.1555 - accuracy: 0.9411 - val_loss: 0.2061 - val_accuracy: 0.9238\n",
      "Epoch 99/100\n",
      "57/57 [==============================] - 0s 3ms/step - loss: 0.1541 - accuracy: 0.9411 - val_loss: 0.2115 - val_accuracy: 0.9254\n",
      "Epoch 100/100\n",
      "57/57 [==============================] - 0s 3ms/step - loss: 0.1562 - accuracy: 0.9408 - val_loss: 0.2082 - val_accuracy: 0.9298\n"
     ]
    }
   ],
   "source": [
    "history = model.fit(x=X_train,y=y_train, validation_split=0.2,\n",
    "          batch_size=128,epochs=100)\n"
   ]
  },
  {
   "cell_type": "code",
   "execution_count": null,
   "id": "2a110ca8",
   "metadata": {},
   "outputs": [
    {
     "name": "stdout",
     "output_type": "stream",
     "text": [
      "Model: \"sequential\"\n",
      "_________________________________________________________________\n",
      " Layer (type)                Output Shape              Param #   \n",
      "=================================================================\n",
      " dense (Dense)               (None, 32)                544       \n",
      "                                                                 \n",
      " dense_1 (Dense)             (None, 32)                1056      \n",
      "                                                                 \n",
      " dense_2 (Dense)             (None, 32)                1056      \n",
      "                                                                 \n",
      " dense_3 (Dense)             (None, 16)                528       \n",
      "                                                                 \n",
      " dense_4 (Dense)             (None, 7)                 119       \n",
      "                                                                 \n",
      "=================================================================\n",
      "Total params: 3,303\n",
      "Trainable params: 3,303\n",
      "Non-trainable params: 0\n",
      "_________________________________________________________________\n"
     ]
    }
   ],
   "source": [
    "model.summary()"
   ]
  },
  {
   "cell_type": "code",
   "execution_count": null,
   "id": "c8b5565c",
   "metadata": {},
   "outputs": [
    {
     "data": {
      "image/png": "[encoded data removed]",
      "text/plain": [
       "<Figure size 432x288 with 1 Axes>"
      ]
     },
     "metadata": {
      "needs_background": "light"
     },
     "output_type": "display_data"
    }
   ],
   "source": [
    "plt.plot(history.history['loss'])\n",
    "plt.plot(history.history['val_loss'])\n",
    "plt.title('model loss')\n",
    "plt.ylabel('loss')\n",
    "plt.xlabel('epoch')\n",
    "#plt.legend(['train', 'val'], loc='upper left')\n",
    "plt.show()"
   ]
  },
  {
   "cell_type": "code",
   "execution_count": null,
   "id": "728d6cab",
   "metadata": {},
   "outputs": [],
   "source": [
    "y_pred = model.predict(X_test)\n",
    "y_pred = y_pred.argmax(axis=1)"
   ]
  },
  {
   "cell_type": "code",
   "execution_count": null,
   "id": "42f08c3a",
   "metadata": {},
   "outputs": [
    {
     "name": "stdout",
     "output_type": "stream",
     "text": [
      "              precision    recall  f1-score   support\n",
      "\n",
      "           0       0.94      0.92      0.93       400\n",
      "           1       1.00      1.00      1.00       185\n",
      "           2       0.94      0.95      0.94       531\n",
      "           3       0.93      0.92      0.93      1163\n",
      "           4       0.97      0.93      0.95       642\n",
      "           5       0.96      0.95      0.96       675\n",
      "           6       0.86      0.91      0.89       896\n",
      "\n",
      "    accuracy                           0.93      4492\n",
      "   macro avg       0.94      0.94      0.94      4492\n",
      "weighted avg       0.93      0.93      0.93      4492\n",
      "\n"
     ]
    }
   ],
   "source": [
    "from sklearn.metrics import classification_report\n",
    "print(classification_report(y_test,y_pred))"
   ]
  },
  {
   "cell_type": "code",
   "execution_count": null,
   "id": "1023fc11",
   "metadata": {},
   "outputs": [],
   "source": [
    "# Designing a Neural Network Model activation function = sigmoid\n",
    "model = Sequential()\n",
    "model.add(Dense(32, activation='sigmoid'))\n",
    "model.add(Dense(32, activation='sigmoid'))\n",
    "model.add(Dense(32, activation='sigmoid'))\n",
    "model.add(Dense(16, activation='sigmoid'))\n",
    "model.add(Dense(7,activation='softmax'))\n",
    "model.compile(loss='categorical_crossentropy', optimizer='adam',\n",
    "                metrics=['accuracy'])\n",
    "    "
   ]
  },
  {
   "cell_type": "code",
   "execution_count": null,
   "id": "f458d459",
   "metadata": {},
   "outputs": [
    {
     "name": "stdout",
     "output_type": "stream",
     "text": [
      "Epoch 1/100\n",
      "57/57 [==============================] - 1s 8ms/step - loss: 1.8970 - accuracy: 0.1948 - val_loss: 1.8340 - val_accuracy: 0.2802\n",
      "Epoch 2/100\n",
      "57/57 [==============================] - 0s 3ms/step - loss: 1.8157 - accuracy: 0.2566 - val_loss: 1.7796 - val_accuracy: 0.2802\n",
      "Epoch 3/100\n",
      "57/57 [==============================] - 0s 3ms/step - loss: 1.7221 - accuracy: 0.2633 - val_loss: 1.6291 - val_accuracy: 0.4106\n",
      "Epoch 4/100\n",
      "57/57 [==============================] - 0s 3ms/step - loss: 1.5053 - accuracy: 0.5988 - val_loss: 1.3645 - val_accuracy: 0.6436\n",
      "Epoch 5/100\n",
      "57/57 [==============================] - 0s 3ms/step - loss: 1.2364 - accuracy: 0.6591 - val_loss: 1.1047 - val_accuracy: 0.6853\n",
      "Epoch 6/100\n",
      "57/57 [==============================] - 0s 3ms/step - loss: 1.0219 - accuracy: 0.6799 - val_loss: 0.9379 - val_accuracy: 0.7067\n",
      "Epoch 7/100\n",
      "57/57 [==============================] - 0s 3ms/step - loss: 0.8941 - accuracy: 0.7114 - val_loss: 0.8366 - val_accuracy: 0.7264\n",
      "Epoch 8/100\n",
      "57/57 [==============================] - 0s 3ms/step - loss: 0.8073 - accuracy: 0.7419 - val_loss: 0.7582 - val_accuracy: 0.7686\n",
      "Epoch 9/100\n",
      "57/57 [==============================] - 0s 3ms/step - loss: 0.7345 - accuracy: 0.7938 - val_loss: 0.6894 - val_accuracy: 0.7977\n",
      "Epoch 10/100\n",
      "57/57 [==============================] - 0s 3ms/step - loss: 0.6668 - accuracy: 0.8221 - val_loss: 0.6284 - val_accuracy: 0.8246\n",
      "Epoch 11/100\n",
      "57/57 [==============================] - 0s 3ms/step - loss: 0.6069 - accuracy: 0.8376 - val_loss: 0.5725 - val_accuracy: 0.8454\n",
      "Epoch 12/100\n",
      "57/57 [==============================] - 0s 3ms/step - loss: 0.5548 - accuracy: 0.8493 - val_loss: 0.5266 - val_accuracy: 0.8470\n",
      "Epoch 13/100\n",
      "57/57 [==============================] - 0s 4ms/step - loss: 0.5122 - accuracy: 0.8550 - val_loss: 0.4915 - val_accuracy: 0.8629\n",
      "Epoch 14/100\n",
      "57/57 [==============================] - 0s 4ms/step - loss: 0.4781 - accuracy: 0.8626 - val_loss: 0.4612 - val_accuracy: 0.8640\n",
      "Epoch 15/100\n",
      "57/57 [==============================] - 0s 4ms/step - loss: 0.4499 - accuracy: 0.8650 - val_loss: 0.4366 - val_accuracy: 0.8662\n",
      "Epoch 16/100\n",
      "57/57 [==============================] - 0s 4ms/step - loss: 0.4288 - accuracy: 0.8668 - val_loss: 0.4209 - val_accuracy: 0.8673\n",
      "Epoch 17/100\n",
      "57/57 [==============================] - 0s 4ms/step - loss: 0.4125 - accuracy: 0.8710 - val_loss: 0.4092 - val_accuracy: 0.8679\n",
      "Epoch 18/100\n",
      "57/57 [==============================] - 0s 4ms/step - loss: 0.3978 - accuracy: 0.8725 - val_loss: 0.3915 - val_accuracy: 0.8706\n",
      "Epoch 19/100\n",
      "57/57 [==============================] - 0s 5ms/step - loss: 0.3871 - accuracy: 0.8727 - val_loss: 0.3844 - val_accuracy: 0.8734\n",
      "Epoch 20/100\n",
      "57/57 [==============================] - 0s 5ms/step - loss: 0.3771 - accuracy: 0.8725 - val_loss: 0.3754 - val_accuracy: 0.8717\n",
      "Epoch 21/100\n",
      "57/57 [==============================] - 0s 3ms/step - loss: 0.3692 - accuracy: 0.8724 - val_loss: 0.3695 - val_accuracy: 0.8734\n",
      "Epoch 22/100\n",
      "57/57 [==============================] - 0s 3ms/step - loss: 0.3623 - accuracy: 0.8751 - val_loss: 0.3662 - val_accuracy: 0.8717\n",
      "Epoch 23/100\n",
      "57/57 [==============================] - 0s 3ms/step - loss: 0.3588 - accuracy: 0.8746 - val_loss: 0.3626 - val_accuracy: 0.8761\n",
      "Epoch 24/100\n",
      "57/57 [==============================] - 0s 3ms/step - loss: 0.3517 - accuracy: 0.8740 - val_loss: 0.3525 - val_accuracy: 0.8723\n",
      "Epoch 25/100\n",
      "57/57 [==============================] - 0s 3ms/step - loss: 0.3468 - accuracy: 0.8776 - val_loss: 0.3530 - val_accuracy: 0.8706\n",
      "Epoch 26/100\n",
      "57/57 [==============================] - 0s 3ms/step - loss: 0.3428 - accuracy: 0.8758 - val_loss: 0.3447 - val_accuracy: 0.8750\n",
      "Epoch 27/100\n",
      "57/57 [==============================] - 0s 3ms/step - loss: 0.3406 - accuracy: 0.8761 - val_loss: 0.3470 - val_accuracy: 0.8739\n",
      "Epoch 28/100\n",
      "57/57 [==============================] - 0s 4ms/step - loss: 0.3351 - accuracy: 0.8788 - val_loss: 0.3372 - val_accuracy: 0.8750\n",
      "Epoch 29/100\n",
      "57/57 [==============================] - 0s 3ms/step - loss: 0.3322 - accuracy: 0.8790 - val_loss: 0.3347 - val_accuracy: 0.8755\n",
      "Epoch 30/100\n",
      "57/57 [==============================] - 0s 3ms/step - loss: 0.3278 - accuracy: 0.8783 - val_loss: 0.3355 - val_accuracy: 0.8739\n",
      "Epoch 31/100\n",
      "57/57 [==============================] - 0s 3ms/step - loss: 0.3248 - accuracy: 0.8790 - val_loss: 0.3302 - val_accuracy: 0.8761\n",
      "Epoch 32/100\n",
      "57/57 [==============================] - 0s 3ms/step - loss: 0.3219 - accuracy: 0.8773 - val_loss: 0.3239 - val_accuracy: 0.8761\n",
      "Epoch 33/100\n",
      "57/57 [==============================] - 0s 3ms/step - loss: 0.3179 - accuracy: 0.8781 - val_loss: 0.3226 - val_accuracy: 0.8755\n",
      "Epoch 34/100\n",
      "57/57 [==============================] - 0s 3ms/step - loss: 0.3152 - accuracy: 0.8801 - val_loss: 0.3193 - val_accuracy: 0.8761\n",
      "Epoch 35/100\n",
      "57/57 [==============================] - 0s 3ms/step - loss: 0.3109 - accuracy: 0.8785 - val_loss: 0.3128 - val_accuracy: 0.8761\n",
      "Epoch 36/100\n",
      "57/57 [==============================] - 0s 3ms/step - loss: 0.3081 - accuracy: 0.8775 - val_loss: 0.3105 - val_accuracy: 0.8750\n",
      "Epoch 37/100\n",
      "57/57 [==============================] - 0s 3ms/step - loss: 0.3017 - accuracy: 0.8807 - val_loss: 0.3056 - val_accuracy: 0.8986\n",
      "Epoch 38/100\n",
      "57/57 [==============================] - 0s 3ms/step - loss: 0.2973 - accuracy: 0.9031 - val_loss: 0.3001 - val_accuracy: 0.9013\n",
      "Epoch 39/100\n",
      "57/57 [==============================] - 0s 4ms/step - loss: 0.2911 - accuracy: 0.9032 - val_loss: 0.2985 - val_accuracy: 0.9068\n",
      "Epoch 40/100\n",
      "57/57 [==============================] - 0s 3ms/step - loss: 0.2870 - accuracy: 0.9103 - val_loss: 0.2899 - val_accuracy: 0.9134\n",
      "Epoch 41/100\n",
      "57/57 [==============================] - 0s 3ms/step - loss: 0.2805 - accuracy: 0.9138 - val_loss: 0.2840 - val_accuracy: 0.9112\n",
      "Epoch 42/100\n",
      "57/57 [==============================] - 0s 3ms/step - loss: 0.2758 - accuracy: 0.9146 - val_loss: 0.2834 - val_accuracy: 0.9095\n",
      "Epoch 43/100\n",
      "57/57 [==============================] - 0s 3ms/step - loss: 0.2716 - accuracy: 0.9160 - val_loss: 0.2759 - val_accuracy: 0.9123\n",
      "Epoch 44/100\n",
      "57/57 [==============================] - 0s 3ms/step - loss: 0.2655 - accuracy: 0.9179 - val_loss: 0.2689 - val_accuracy: 0.9156\n",
      "Epoch 45/100\n",
      "57/57 [==============================] - 0s 4ms/step - loss: 0.2615 - accuracy: 0.9160 - val_loss: 0.2654 - val_accuracy: 0.9134\n",
      "Epoch 46/100\n",
      "57/57 [==============================] - 0s 4ms/step - loss: 0.2575 - accuracy: 0.9173 - val_loss: 0.2622 - val_accuracy: 0.9156\n",
      "Epoch 47/100\n",
      "57/57 [==============================] - 0s 3ms/step - loss: 0.2544 - accuracy: 0.9190 - val_loss: 0.2602 - val_accuracy: 0.9167\n",
      "Epoch 48/100\n",
      "57/57 [==============================] - 0s 3ms/step - loss: 0.2508 - accuracy: 0.9180 - val_loss: 0.2589 - val_accuracy: 0.9161\n",
      "Epoch 49/100\n",
      "57/57 [==============================] - 0s 3ms/step - loss: 0.2482 - accuracy: 0.9182 - val_loss: 0.2551 - val_accuracy: 0.9139\n",
      "Epoch 50/100\n",
      "57/57 [==============================] - 0s 3ms/step - loss: 0.2467 - accuracy: 0.9176 - val_loss: 0.2529 - val_accuracy: 0.9156\n",
      "Epoch 51/100\n",
      "57/57 [==============================] - 0s 3ms/step - loss: 0.2432 - accuracy: 0.9208 - val_loss: 0.2500 - val_accuracy: 0.9156\n",
      "Epoch 52/100\n",
      "57/57 [==============================] - 0s 3ms/step - loss: 0.2414 - accuracy: 0.9190 - val_loss: 0.2511 - val_accuracy: 0.9150\n",
      "Epoch 53/100\n",
      "57/57 [==============================] - 0s 3ms/step - loss: 0.2396 - accuracy: 0.9195 - val_loss: 0.2473 - val_accuracy: 0.9183\n",
      "Epoch 54/100\n",
      "57/57 [==============================] - 0s 3ms/step - loss: 0.2375 - accuracy: 0.9187 - val_loss: 0.2466 - val_accuracy: 0.9156\n",
      "Epoch 55/100\n",
      "57/57 [==============================] - 0s 3ms/step - loss: 0.2359 - accuracy: 0.9190 - val_loss: 0.2431 - val_accuracy: 0.9183\n",
      "Epoch 56/100\n",
      "57/57 [==============================] - 0s 3ms/step - loss: 0.2348 - accuracy: 0.9213 - val_loss: 0.2401 - val_accuracy: 0.9200\n",
      "Epoch 57/100\n",
      "57/57 [==============================] - 0s 3ms/step - loss: 0.2334 - accuracy: 0.9219 - val_loss: 0.2432 - val_accuracy: 0.9178\n",
      "Epoch 58/100\n",
      "57/57 [==============================] - 0s 3ms/step - loss: 0.2322 - accuracy: 0.9210 - val_loss: 0.2411 - val_accuracy: 0.9178\n",
      "Epoch 59/100\n",
      "57/57 [==============================] - 0s 3ms/step - loss: 0.2308 - accuracy: 0.9205 - val_loss: 0.2420 - val_accuracy: 0.9178\n",
      "Epoch 60/100\n",
      "57/57 [==============================] - 0s 3ms/step - loss: 0.2299 - accuracy: 0.9199 - val_loss: 0.2375 - val_accuracy: 0.9194\n",
      "Epoch 61/100\n",
      "57/57 [==============================] - 0s 3ms/step - loss: 0.2271 - accuracy: 0.9227 - val_loss: 0.2373 - val_accuracy: 0.9183\n",
      "Epoch 62/100\n",
      "57/57 [==============================] - 0s 4ms/step - loss: 0.2271 - accuracy: 0.9234 - val_loss: 0.2339 - val_accuracy: 0.9205\n",
      "Epoch 63/100\n",
      "57/57 [==============================] - 0s 4ms/step - loss: 0.2252 - accuracy: 0.9220 - val_loss: 0.2376 - val_accuracy: 0.9167\n",
      "Epoch 64/100\n",
      "57/57 [==============================] - 0s 3ms/step - loss: 0.2252 - accuracy: 0.9243 - val_loss: 0.2348 - val_accuracy: 0.9189\n",
      "Epoch 65/100\n",
      "57/57 [==============================] - 0s 3ms/step - loss: 0.2231 - accuracy: 0.9247 - val_loss: 0.2300 - val_accuracy: 0.9216\n",
      "Epoch 66/100\n",
      "57/57 [==============================] - 0s 3ms/step - loss: 0.2225 - accuracy: 0.9236 - val_loss: 0.2291 - val_accuracy: 0.9216\n",
      "Epoch 67/100\n",
      "57/57 [==============================] - 0s 3ms/step - loss: 0.2226 - accuracy: 0.9232 - val_loss: 0.2296 - val_accuracy: 0.9216\n",
      "Epoch 68/100\n",
      "57/57 [==============================] - 0s 4ms/step - loss: 0.2211 - accuracy: 0.9242 - val_loss: 0.2301 - val_accuracy: 0.9194\n",
      "Epoch 69/100\n",
      "57/57 [==============================] - 0s 3ms/step - loss: 0.2206 - accuracy: 0.9238 - val_loss: 0.2279 - val_accuracy: 0.9227\n",
      "Epoch 70/100\n",
      "57/57 [==============================] - 0s 4ms/step - loss: 0.2198 - accuracy: 0.9228 - val_loss: 0.2291 - val_accuracy: 0.9200\n",
      "Epoch 71/100\n",
      "57/57 [==============================] - 0s 3ms/step - loss: 0.2189 - accuracy: 0.9236 - val_loss: 0.2269 - val_accuracy: 0.9221\n",
      "Epoch 72/100\n",
      "57/57 [==============================] - 0s 3ms/step - loss: 0.2181 - accuracy: 0.9238 - val_loss: 0.2258 - val_accuracy: 0.9232\n",
      "Epoch 73/100\n",
      "57/57 [==============================] - 0s 3ms/step - loss: 0.2166 - accuracy: 0.9241 - val_loss: 0.2249 - val_accuracy: 0.9232\n",
      "Epoch 74/100\n",
      "57/57 [==============================] - 0s 3ms/step - loss: 0.2160 - accuracy: 0.9252 - val_loss: 0.2252 - val_accuracy: 0.9249\n",
      "Epoch 75/100\n",
      "57/57 [==============================] - 0s 3ms/step - loss: 0.2150 - accuracy: 0.9263 - val_loss: 0.2246 - val_accuracy: 0.9200\n",
      "Epoch 76/100\n",
      "57/57 [==============================] - 0s 3ms/step - loss: 0.2147 - accuracy: 0.9250 - val_loss: 0.2250 - val_accuracy: 0.9227\n",
      "Epoch 77/100\n",
      "57/57 [==============================] - 0s 3ms/step - loss: 0.2150 - accuracy: 0.9264 - val_loss: 0.2268 - val_accuracy: 0.9211\n",
      "Epoch 78/100\n",
      "57/57 [==============================] - 0s 3ms/step - loss: 0.2136 - accuracy: 0.9271 - val_loss: 0.2291 - val_accuracy: 0.9200\n",
      "Epoch 79/100\n",
      "57/57 [==============================] - 0s 3ms/step - loss: 0.2135 - accuracy: 0.9249 - val_loss: 0.2241 - val_accuracy: 0.9211\n",
      "Epoch 80/100\n",
      "57/57 [==============================] - 0s 3ms/step - loss: 0.2122 - accuracy: 0.9245 - val_loss: 0.2258 - val_accuracy: 0.9194\n",
      "Epoch 81/100\n",
      "57/57 [==============================] - 0s 3ms/step - loss: 0.2122 - accuracy: 0.9253 - val_loss: 0.2245 - val_accuracy: 0.9216\n",
      "Epoch 82/100\n",
      "57/57 [==============================] - 0s 3ms/step - loss: 0.2112 - accuracy: 0.9256 - val_loss: 0.2218 - val_accuracy: 0.9227\n",
      "Epoch 83/100\n",
      "57/57 [==============================] - 0s 3ms/step - loss: 0.2107 - accuracy: 0.9249 - val_loss: 0.2218 - val_accuracy: 0.9249\n",
      "Epoch 84/100\n",
      "57/57 [==============================] - 0s 3ms/step - loss: 0.2104 - accuracy: 0.9268 - val_loss: 0.2255 - val_accuracy: 0.9178\n",
      "Epoch 85/100\n",
      "57/57 [==============================] - 0s 3ms/step - loss: 0.2098 - accuracy: 0.9263 - val_loss: 0.2237 - val_accuracy: 0.9221\n",
      "Epoch 86/100\n",
      "57/57 [==============================] - 0s 3ms/step - loss: 0.2092 - accuracy: 0.9261 - val_loss: 0.2221 - val_accuracy: 0.9238\n",
      "Epoch 87/100\n",
      "57/57 [==============================] - 0s 3ms/step - loss: 0.2076 - accuracy: 0.9283 - val_loss: 0.2215 - val_accuracy: 0.9216\n",
      "Epoch 88/100\n",
      "57/57 [==============================] - 0s 3ms/step - loss: 0.2075 - accuracy: 0.9260 - val_loss: 0.2192 - val_accuracy: 0.9249\n",
      "Epoch 89/100\n",
      "57/57 [==============================] - 0s 3ms/step - loss: 0.2076 - accuracy: 0.9267 - val_loss: 0.2202 - val_accuracy: 0.9232\n",
      "Epoch 90/100\n",
      "57/57 [==============================] - 0s 3ms/step - loss: 0.2066 - accuracy: 0.9275 - val_loss: 0.2206 - val_accuracy: 0.9216\n",
      "Epoch 91/100\n",
      "57/57 [==============================] - 0s 3ms/step - loss: 0.2065 - accuracy: 0.9278 - val_loss: 0.2216 - val_accuracy: 0.9205\n",
      "Epoch 92/100\n",
      "57/57 [==============================] - 0s 3ms/step - loss: 0.2063 - accuracy: 0.9273 - val_loss: 0.2178 - val_accuracy: 0.9243\n",
      "Epoch 93/100\n",
      "57/57 [==============================] - 0s 3ms/step - loss: 0.2049 - accuracy: 0.9278 - val_loss: 0.2175 - val_accuracy: 0.9254\n",
      "Epoch 94/100\n",
      "57/57 [==============================] - 0s 3ms/step - loss: 0.2051 - accuracy: 0.9275 - val_loss: 0.2173 - val_accuracy: 0.9254\n",
      "Epoch 95/100\n",
      "57/57 [==============================] - 0s 3ms/step - loss: 0.2054 - accuracy: 0.9282 - val_loss: 0.2199 - val_accuracy: 0.9238\n",
      "Epoch 96/100\n",
      "57/57 [==============================] - 0s 3ms/step - loss: 0.2035 - accuracy: 0.9272 - val_loss: 0.2173 - val_accuracy: 0.9227\n",
      "Epoch 97/100\n",
      "57/57 [==============================] - 0s 3ms/step - loss: 0.2040 - accuracy: 0.9284 - val_loss: 0.2167 - val_accuracy: 0.9271\n",
      "Epoch 98/100\n",
      "57/57 [==============================] - 0s 4ms/step - loss: 0.2040 - accuracy: 0.9269 - val_loss: 0.2171 - val_accuracy: 0.9238\n",
      "Epoch 99/100\n",
      "57/57 [==============================] - 0s 4ms/step - loss: 0.2027 - accuracy: 0.9294 - val_loss: 0.2161 - val_accuracy: 0.9232\n",
      "Epoch 100/100\n",
      "57/57 [==============================] - 0s 3ms/step - loss: 0.2038 - accuracy: 0.9278 - val_loss: 0.2160 - val_accuracy: 0.9238\n"
     ]
    }
   ],
   "source": [
    "history = model.fit(x=X_train,y=y_train, validation_split=0.2,\n",
    "            batch_size=128,epochs=100)\n",
    "        "
   ]
  },
  {
   "cell_type": "code",
   "execution_count": null,
   "id": "b67fadd9",
   "metadata": {},
   "outputs": [
    {
     "name": "stdout",
     "output_type": "stream",
     "text": [
      "Model: \"sequential_1\"\n",
      "_________________________________________________________________\n",
      " Layer (type)                Output Shape              Param #   \n",
      "=================================================================\n",
      " dense_5 (Dense)             (None, 32)                544       \n",
      "                                                                 \n",
      " dense_6 (Dense)             (None, 32)                1056      \n",
      "                                                                 \n",
      " dense_7 (Dense)             (None, 32)                1056      \n",
      "                                                                 \n",
      " dense_8 (Dense)             (None, 16)                528       \n",
      "                                                                 \n",
      " dense_9 (Dense)             (None, 7)                 119       \n",
      "                                                                 \n",
      "=================================================================\n",
      "Total params: 3,303\n",
      "Trainable params: 3,303\n",
      "Non-trainable params: 0\n",
      "_________________________________________________________________\n"
     ]
    }
   ],
   "source": [
    "model.summary()\n",
    "    "
   ]
  },
  {
   "cell_type": "code",
   "execution_count": null,
   "id": "02cbd403",
   "metadata": {},
   "outputs": [
    {
     "data": {
      "image/png": "[encoded data removed]",
      "text/plain": [
       "<Figure size 432x288 with 1 Axes>"
      ]
     },
     "metadata": {
      "needs_background": "light"
     },
     "output_type": "display_data"
    }
   ],
   "source": [
    "plt.plot(history.history['loss'])\n",
    "plt.plot(history.history['val_loss'])\n",
    "plt.title('model loss')\n",
    "plt.ylabel('loss')\n",
    "plt.xlabel('epoch')\n",
    "#plt.legend(['train', 'val'], loc='upper left')\n",
    "plt.show()\n",
    "    "
   ]
  },
  {
   "cell_type": "code",
   "execution_count": null,
   "id": "bc768551",
   "metadata": {},
   "outputs": [],
   "source": [
    "y_pred = model.predict(X_test)\n",
    "y_pred = y_pred.argmax(axis=1)\n",
    "    "
   ]
  },
  {
   "cell_type": "code",
   "execution_count": null,
   "id": "4a5eefbd",
   "metadata": {},
   "outputs": [
    {
     "name": "stdout",
     "output_type": "stream",
     "text": [
      "              precision    recall  f1-score   support\n",
      "\n",
      "           0       0.92      0.93      0.92       400\n",
      "           1       1.00      1.00      1.00       185\n",
      "           2       0.93      0.94      0.93       531\n",
      "           3       0.90      0.95      0.92      1163\n",
      "           4       0.96      0.94      0.95       642\n",
      "           5       0.97      0.94      0.95       675\n",
      "           6       0.89      0.84      0.86       896\n",
      "\n",
      "    accuracy                           0.92      4492\n",
      "   macro avg       0.94      0.93      0.93      4492\n",
      "weighted avg       0.92      0.92      0.92      4492\n",
      "\n"
     ]
    }
   ],
   "source": [
    "from sklearn.metrics import classification_report\n",
    "print(classification_report(y_test,y_pred))\n",
    "    "
   ]
  },
  {
   "cell_type": "code",
   "execution_count": null,
   "id": "cddaa541",
   "metadata": {},
   "outputs": [],
   "source": [
    "# Designing a Neural Network Model activation function = tanh\n",
    "model = Sequential()\n",
    "model.add(Dense(32, activation='tanh'))\n",
    "model.add(Dense(32, activation='tanh'))\n",
    "model.add(Dense(32, activation='tanh'))\n",
    "model.add(Dense(16, activation='tanh'))\n",
    "model.add(Dense(7,activation='softmax'))\n",
    "model.compile(loss='categorical_crossentropy', optimizer='adam',\n",
    "                metrics=['accuracy'])\n",
    "    "
   ]
  },
  {
   "cell_type": "code",
   "execution_count": null,
   "id": "df135c6e",
   "metadata": {},
   "outputs": [
    {
     "name": "stdout",
     "output_type": "stream",
     "text": [
      "Epoch 1/100\n",
      "57/57 [==============================] - 1s 10ms/step - loss: 1.1314 - accuracy: 0.6833 - val_loss: 0.7651 - val_accuracy: 0.8169\n",
      "Epoch 2/100\n",
      "57/57 [==============================] - 0s 4ms/step - loss: 0.6224 - accuracy: 0.8691 - val_loss: 0.4944 - val_accuracy: 0.8969\n",
      "Epoch 3/100\n",
      "57/57 [==============================] - 0s 4ms/step - loss: 0.4195 - accuracy: 0.9102 - val_loss: 0.3525 - val_accuracy: 0.9161\n",
      "Epoch 4/100\n",
      "57/57 [==============================] - 0s 4ms/step - loss: 0.3195 - accuracy: 0.9209 - val_loss: 0.2910 - val_accuracy: 0.9189\n",
      "Epoch 5/100\n",
      "57/57 [==============================] - 0s 5ms/step - loss: 0.2774 - accuracy: 0.9230 - val_loss: 0.2665 - val_accuracy: 0.9128\n",
      "Epoch 6/100\n",
      "57/57 [==============================] - 0s 5ms/step - loss: 0.2536 - accuracy: 0.9264 - val_loss: 0.2461 - val_accuracy: 0.9243\n",
      "Epoch 7/100\n",
      "57/57 [==============================] - 0s 5ms/step - loss: 0.2417 - accuracy: 0.9239 - val_loss: 0.2379 - val_accuracy: 0.9211\n",
      "Epoch 8/100\n",
      "57/57 [==============================] - 0s 5ms/step - loss: 0.2328 - accuracy: 0.9275 - val_loss: 0.2303 - val_accuracy: 0.9232\n",
      "Epoch 9/100\n",
      "57/57 [==============================] - 0s 4ms/step - loss: 0.2265 - accuracy: 0.9253 - val_loss: 0.2310 - val_accuracy: 0.9172\n",
      "Epoch 10/100\n",
      "57/57 [==============================] - 0s 4ms/step - loss: 0.2214 - accuracy: 0.9258 - val_loss: 0.2251 - val_accuracy: 0.9265\n",
      "Epoch 11/100\n",
      "57/57 [==============================] - 0s 4ms/step - loss: 0.2171 - accuracy: 0.9267 - val_loss: 0.2260 - val_accuracy: 0.9265\n",
      "Epoch 12/100\n",
      "57/57 [==============================] - 0s 3ms/step - loss: 0.2160 - accuracy: 0.9269 - val_loss: 0.2267 - val_accuracy: 0.9183\n",
      "Epoch 13/100\n",
      "57/57 [==============================] - 0s 3ms/step - loss: 0.2108 - accuracy: 0.9286 - val_loss: 0.2327 - val_accuracy: 0.9178\n",
      "Epoch 14/100\n",
      "57/57 [==============================] - 0s 4ms/step - loss: 0.2123 - accuracy: 0.9269 - val_loss: 0.2228 - val_accuracy: 0.9232\n",
      "Epoch 15/100\n",
      "57/57 [==============================] - 0s 4ms/step - loss: 0.2082 - accuracy: 0.9295 - val_loss: 0.2191 - val_accuracy: 0.9238\n",
      "Epoch 16/100\n",
      "57/57 [==============================] - 0s 4ms/step - loss: 0.2079 - accuracy: 0.9280 - val_loss: 0.2168 - val_accuracy: 0.9221\n",
      "Epoch 17/100\n",
      "57/57 [==============================] - 0s 4ms/step - loss: 0.2041 - accuracy: 0.9290 - val_loss: 0.2173 - val_accuracy: 0.9200\n",
      "Epoch 18/100\n",
      "57/57 [==============================] - 0s 4ms/step - loss: 0.2018 - accuracy: 0.9308 - val_loss: 0.2167 - val_accuracy: 0.9211\n",
      "Epoch 19/100\n",
      "57/57 [==============================] - 0s 4ms/step - loss: 0.1993 - accuracy: 0.9300 - val_loss: 0.2132 - val_accuracy: 0.9243\n",
      "Epoch 20/100\n",
      "57/57 [==============================] - 0s 3ms/step - loss: 0.1968 - accuracy: 0.9313 - val_loss: 0.2169 - val_accuracy: 0.9254\n",
      "Epoch 21/100\n",
      "57/57 [==============================] - 0s 3ms/step - loss: 0.1977 - accuracy: 0.9302 - val_loss: 0.2152 - val_accuracy: 0.9183\n",
      "Epoch 22/100\n",
      "57/57 [==============================] - 0s 3ms/step - loss: 0.1948 - accuracy: 0.9312 - val_loss: 0.2116 - val_accuracy: 0.9260\n",
      "Epoch 23/100\n",
      "57/57 [==============================] - 0s 3ms/step - loss: 0.1952 - accuracy: 0.9315 - val_loss: 0.2092 - val_accuracy: 0.9216\n",
      "Epoch 24/100\n",
      "57/57 [==============================] - 0s 4ms/step - loss: 0.1928 - accuracy: 0.9321 - val_loss: 0.2126 - val_accuracy: 0.9260\n",
      "Epoch 25/100\n",
      "57/57 [==============================] - 0s 4ms/step - loss: 0.1925 - accuracy: 0.9315 - val_loss: 0.2135 - val_accuracy: 0.9172\n",
      "Epoch 26/100\n",
      "57/57 [==============================] - 0s 4ms/step - loss: 0.1928 - accuracy: 0.9317 - val_loss: 0.2109 - val_accuracy: 0.9189\n",
      "Epoch 27/100\n",
      "57/57 [==============================] - 0s 4ms/step - loss: 0.1888 - accuracy: 0.9331 - val_loss: 0.2083 - val_accuracy: 0.9254\n",
      "Epoch 28/100\n",
      "57/57 [==============================] - 0s 4ms/step - loss: 0.1896 - accuracy: 0.9323 - val_loss: 0.2080 - val_accuracy: 0.9249\n",
      "Epoch 29/100\n",
      "57/57 [==============================] - 0s 4ms/step - loss: 0.1878 - accuracy: 0.9328 - val_loss: 0.2091 - val_accuracy: 0.9232\n",
      "Epoch 30/100\n",
      "57/57 [==============================] - 0s 3ms/step - loss: 0.1865 - accuracy: 0.9335 - val_loss: 0.2081 - val_accuracy: 0.9227\n",
      "Epoch 31/100\n",
      "57/57 [==============================] - 0s 3ms/step - loss: 0.1886 - accuracy: 0.9319 - val_loss: 0.2051 - val_accuracy: 0.9293\n",
      "Epoch 32/100\n",
      "57/57 [==============================] - 0s 3ms/step - loss: 0.1853 - accuracy: 0.9349 - val_loss: 0.2067 - val_accuracy: 0.9216\n",
      "Epoch 33/100\n",
      "57/57 [==============================] - 0s 3ms/step - loss: 0.1860 - accuracy: 0.9320 - val_loss: 0.2062 - val_accuracy: 0.9243\n",
      "Epoch 34/100\n",
      "57/57 [==============================] - 0s 4ms/step - loss: 0.1838 - accuracy: 0.9335 - val_loss: 0.2084 - val_accuracy: 0.9243\n",
      "Epoch 35/100\n",
      "57/57 [==============================] - 0s 4ms/step - loss: 0.1823 - accuracy: 0.9342 - val_loss: 0.2132 - val_accuracy: 0.9249\n",
      "Epoch 36/100\n",
      "57/57 [==============================] - 0s 3ms/step - loss: 0.1860 - accuracy: 0.9319 - val_loss: 0.2074 - val_accuracy: 0.9216\n",
      "Epoch 37/100\n",
      "57/57 [==============================] - 0s 4ms/step - loss: 0.1812 - accuracy: 0.9342 - val_loss: 0.2108 - val_accuracy: 0.9221\n",
      "Epoch 38/100\n",
      "57/57 [==============================] - 0s 3ms/step - loss: 0.1824 - accuracy: 0.9353 - val_loss: 0.2078 - val_accuracy: 0.9216\n",
      "Epoch 39/100\n",
      "57/57 [==============================] - 0s 3ms/step - loss: 0.1813 - accuracy: 0.9337 - val_loss: 0.2086 - val_accuracy: 0.9232\n",
      "Epoch 40/100\n",
      "57/57 [==============================] - 0s 4ms/step - loss: 0.1806 - accuracy: 0.9343 - val_loss: 0.2103 - val_accuracy: 0.9211\n",
      "Epoch 41/100\n",
      "57/57 [==============================] - 0s 3ms/step - loss: 0.1808 - accuracy: 0.9337 - val_loss: 0.2055 - val_accuracy: 0.9232\n",
      "Epoch 42/100\n",
      "57/57 [==============================] - 0s 4ms/step - loss: 0.1805 - accuracy: 0.9350 - val_loss: 0.2083 - val_accuracy: 0.9205\n",
      "Epoch 43/100\n",
      "57/57 [==============================] - 0s 4ms/step - loss: 0.1811 - accuracy: 0.9332 - val_loss: 0.2052 - val_accuracy: 0.9260\n",
      "Epoch 44/100\n",
      "57/57 [==============================] - 0s 4ms/step - loss: 0.1798 - accuracy: 0.9350 - val_loss: 0.2033 - val_accuracy: 0.9254\n",
      "Epoch 45/100\n",
      "57/57 [==============================] - 0s 4ms/step - loss: 0.1779 - accuracy: 0.9343 - val_loss: 0.2086 - val_accuracy: 0.9243\n",
      "Epoch 46/100\n",
      "57/57 [==============================] - 0s 4ms/step - loss: 0.1771 - accuracy: 0.9354 - val_loss: 0.2048 - val_accuracy: 0.9232\n",
      "Epoch 47/100\n",
      "57/57 [==============================] - 0s 3ms/step - loss: 0.1771 - accuracy: 0.9350 - val_loss: 0.2059 - val_accuracy: 0.9227\n",
      "Epoch 48/100\n",
      "57/57 [==============================] - 0s 3ms/step - loss: 0.1771 - accuracy: 0.9343 - val_loss: 0.2116 - val_accuracy: 0.9227\n",
      "Epoch 49/100\n",
      "57/57 [==============================] - 0s 3ms/step - loss: 0.1747 - accuracy: 0.9354 - val_loss: 0.2052 - val_accuracy: 0.9254\n",
      "Epoch 50/100\n",
      "57/57 [==============================] - 0s 4ms/step - loss: 0.1745 - accuracy: 0.9352 - val_loss: 0.2096 - val_accuracy: 0.9221\n",
      "Epoch 51/100\n",
      "57/57 [==============================] - 0s 4ms/step - loss: 0.1761 - accuracy: 0.9339 - val_loss: 0.2079 - val_accuracy: 0.9232\n",
      "Epoch 52/100\n",
      "57/57 [==============================] - 0s 4ms/step - loss: 0.1753 - accuracy: 0.9356 - val_loss: 0.2030 - val_accuracy: 0.9227\n",
      "Epoch 53/100\n",
      "57/57 [==============================] - 0s 3ms/step - loss: 0.1721 - accuracy: 0.9365 - val_loss: 0.2069 - val_accuracy: 0.9238\n",
      "Epoch 54/100\n",
      "57/57 [==============================] - 0s 3ms/step - loss: 0.1725 - accuracy: 0.9358 - val_loss: 0.2006 - val_accuracy: 0.9249\n",
      "Epoch 55/100\n",
      "57/57 [==============================] - 0s 4ms/step - loss: 0.1711 - accuracy: 0.9367 - val_loss: 0.2035 - val_accuracy: 0.9211\n",
      "Epoch 56/100\n",
      "57/57 [==============================] - 0s 3ms/step - loss: 0.1713 - accuracy: 0.9363 - val_loss: 0.2007 - val_accuracy: 0.9276\n",
      "Epoch 57/100\n",
      "57/57 [==============================] - 0s 4ms/step - loss: 0.1716 - accuracy: 0.9372 - val_loss: 0.2137 - val_accuracy: 0.9238\n",
      "Epoch 58/100\n",
      "57/57 [==============================] - 0s 4ms/step - loss: 0.1717 - accuracy: 0.9378 - val_loss: 0.2019 - val_accuracy: 0.9249\n",
      "Epoch 59/100\n",
      "57/57 [==============================] - 0s 3ms/step - loss: 0.1694 - accuracy: 0.9365 - val_loss: 0.2020 - val_accuracy: 0.9232\n",
      "Epoch 60/100\n",
      "57/57 [==============================] - 0s 3ms/step - loss: 0.1696 - accuracy: 0.9378 - val_loss: 0.2067 - val_accuracy: 0.9238\n",
      "Epoch 61/100\n",
      "57/57 [==============================] - 0s 4ms/step - loss: 0.1692 - accuracy: 0.9354 - val_loss: 0.2033 - val_accuracy: 0.9238\n",
      "Epoch 62/100\n",
      "57/57 [==============================] - 0s 4ms/step - loss: 0.1698 - accuracy: 0.9372 - val_loss: 0.2002 - val_accuracy: 0.9254\n",
      "Epoch 63/100\n",
      "57/57 [==============================] - 0s 4ms/step - loss: 0.1706 - accuracy: 0.9376 - val_loss: 0.2047 - val_accuracy: 0.9254\n",
      "Epoch 64/100\n",
      "57/57 [==============================] - 0s 3ms/step - loss: 0.1676 - accuracy: 0.9385 - val_loss: 0.1993 - val_accuracy: 0.9282\n",
      "Epoch 65/100\n",
      "57/57 [==============================] - 0s 3ms/step - loss: 0.1692 - accuracy: 0.9358 - val_loss: 0.2049 - val_accuracy: 0.9238\n",
      "Epoch 66/100\n",
      "57/57 [==============================] - 0s 3ms/step - loss: 0.1673 - accuracy: 0.9375 - val_loss: 0.2022 - val_accuracy: 0.9221\n",
      "Epoch 67/100\n",
      "57/57 [==============================] - 0s 4ms/step - loss: 0.1666 - accuracy: 0.9390 - val_loss: 0.2030 - val_accuracy: 0.9232\n",
      "Epoch 68/100\n",
      "57/57 [==============================] - 0s 4ms/step - loss: 0.1666 - accuracy: 0.9375 - val_loss: 0.2045 - val_accuracy: 0.9243\n",
      "Epoch 69/100\n",
      "57/57 [==============================] - 0s 3ms/step - loss: 0.1671 - accuracy: 0.9379 - val_loss: 0.2042 - val_accuracy: 0.9249\n",
      "Epoch 70/100\n",
      "57/57 [==============================] - 0s 4ms/step - loss: 0.1651 - accuracy: 0.9386 - val_loss: 0.2072 - val_accuracy: 0.9211\n",
      "Epoch 71/100\n",
      "57/57 [==============================] - 0s 3ms/step - loss: 0.1662 - accuracy: 0.9386 - val_loss: 0.2029 - val_accuracy: 0.9260\n",
      "Epoch 72/100\n",
      "57/57 [==============================] - 0s 3ms/step - loss: 0.1655 - accuracy: 0.9395 - val_loss: 0.2010 - val_accuracy: 0.9282\n",
      "Epoch 73/100\n",
      "57/57 [==============================] - 0s 3ms/step - loss: 0.1633 - accuracy: 0.9400 - val_loss: 0.2017 - val_accuracy: 0.9254\n",
      "Epoch 74/100\n",
      "57/57 [==============================] - 0s 4ms/step - loss: 0.1635 - accuracy: 0.9385 - val_loss: 0.2039 - val_accuracy: 0.9232\n",
      "Epoch 75/100\n",
      "57/57 [==============================] - 0s 4ms/step - loss: 0.1641 - accuracy: 0.9380 - val_loss: 0.2033 - val_accuracy: 0.9254\n",
      "Epoch 76/100\n",
      "57/57 [==============================] - 0s 3ms/step - loss: 0.1655 - accuracy: 0.9385 - val_loss: 0.2024 - val_accuracy: 0.9276\n",
      "Epoch 77/100\n",
      "57/57 [==============================] - 0s 4ms/step - loss: 0.1641 - accuracy: 0.9378 - val_loss: 0.2056 - val_accuracy: 0.9221\n",
      "Epoch 78/100\n",
      "57/57 [==============================] - 0s 3ms/step - loss: 0.1635 - accuracy: 0.9398 - val_loss: 0.2014 - val_accuracy: 0.9249\n",
      "Epoch 79/100\n",
      "57/57 [==============================] - 0s 3ms/step - loss: 0.1626 - accuracy: 0.9376 - val_loss: 0.2003 - val_accuracy: 0.9276\n",
      "Epoch 80/100\n",
      "57/57 [==============================] - 0s 4ms/step - loss: 0.1623 - accuracy: 0.9375 - val_loss: 0.2013 - val_accuracy: 0.9271\n",
      "Epoch 81/100\n",
      "57/57 [==============================] - 0s 3ms/step - loss: 0.1623 - accuracy: 0.9385 - val_loss: 0.1999 - val_accuracy: 0.9260\n",
      "Epoch 82/100\n",
      "57/57 [==============================] - 0s 4ms/step - loss: 0.1604 - accuracy: 0.9405 - val_loss: 0.2015 - val_accuracy: 0.9238\n",
      "Epoch 83/100\n",
      "57/57 [==============================] - 0s 3ms/step - loss: 0.1600 - accuracy: 0.9389 - val_loss: 0.2003 - val_accuracy: 0.9249\n",
      "Epoch 84/100\n",
      "57/57 [==============================] - 0s 4ms/step - loss: 0.1601 - accuracy: 0.9397 - val_loss: 0.2008 - val_accuracy: 0.9287\n",
      "Epoch 85/100\n",
      "57/57 [==============================] - 0s 4ms/step - loss: 0.1609 - accuracy: 0.9386 - val_loss: 0.1993 - val_accuracy: 0.9243\n",
      "Epoch 86/100\n",
      "57/57 [==============================] - 0s 4ms/step - loss: 0.1604 - accuracy: 0.9415 - val_loss: 0.2024 - val_accuracy: 0.9271\n",
      "Epoch 87/100\n",
      "57/57 [==============================] - 0s 4ms/step - loss: 0.1594 - accuracy: 0.9397 - val_loss: 0.2020 - val_accuracy: 0.9276\n",
      "Epoch 88/100\n",
      "57/57 [==============================] - 0s 4ms/step - loss: 0.1607 - accuracy: 0.9401 - val_loss: 0.1990 - val_accuracy: 0.9276\n",
      "Epoch 89/100\n",
      "57/57 [==============================] - 0s 4ms/step - loss: 0.1584 - accuracy: 0.9435 - val_loss: 0.1974 - val_accuracy: 0.9309\n",
      "Epoch 90/100\n",
      "57/57 [==============================] - 0s 4ms/step - loss: 0.1575 - accuracy: 0.9389 - val_loss: 0.2017 - val_accuracy: 0.9309\n",
      "Epoch 91/100\n",
      "57/57 [==============================] - 0s 4ms/step - loss: 0.1572 - accuracy: 0.9409 - val_loss: 0.2007 - val_accuracy: 0.9249\n",
      "Epoch 92/100\n",
      "57/57 [==============================] - 0s 4ms/step - loss: 0.1566 - accuracy: 0.9401 - val_loss: 0.1991 - val_accuracy: 0.9260\n",
      "Epoch 93/100\n",
      "57/57 [==============================] - 0s 3ms/step - loss: 0.1571 - accuracy: 0.9413 - val_loss: 0.2054 - val_accuracy: 0.9282\n",
      "Epoch 94/100\n",
      "57/57 [==============================] - 0s 3ms/step - loss: 0.1579 - accuracy: 0.9398 - val_loss: 0.2026 - val_accuracy: 0.9260\n",
      "Epoch 95/100\n",
      "57/57 [==============================] - 0s 3ms/step - loss: 0.1559 - accuracy: 0.9423 - val_loss: 0.1990 - val_accuracy: 0.9238\n",
      "Epoch 96/100\n",
      "57/57 [==============================] - 0s 3ms/step - loss: 0.1565 - accuracy: 0.9409 - val_loss: 0.1990 - val_accuracy: 0.9282\n",
      "Epoch 97/100\n",
      "57/57 [==============================] - 0s 4ms/step - loss: 0.1552 - accuracy: 0.9413 - val_loss: 0.2013 - val_accuracy: 0.9320\n",
      "Epoch 98/100\n",
      "57/57 [==============================] - 0s 5ms/step - loss: 0.1558 - accuracy: 0.9420 - val_loss: 0.2019 - val_accuracy: 0.9265\n",
      "Epoch 99/100\n",
      "57/57 [==============================] - 0s 4ms/step - loss: 0.1536 - accuracy: 0.9412 - val_loss: 0.2010 - val_accuracy: 0.9265\n",
      "Epoch 100/100\n",
      "57/57 [==============================] - 0s 5ms/step - loss: 0.1557 - accuracy: 0.9420 - val_loss: 0.2014 - val_accuracy: 0.9265\n"
     ]
    }
   ],
   "source": [
    "history = model.fit(x=X_train,y=y_train, validation_split=0.2,\n",
    "            batch_size=128,epochs=100)"
   ]
  },
  {
   "cell_type": "code",
   "execution_count": null,
   "id": "df56c09b",
   "metadata": {},
   "outputs": [
    {
     "name": "stdout",
     "output_type": "stream",
     "text": [
      "Model: \"sequential_2\"\n",
      "_________________________________________________________________\n",
      " Layer (type)                Output Shape              Param #   \n",
      "=================================================================\n",
      " dense_10 (Dense)            (None, 32)                544       \n",
      "                                                                 \n",
      " dense_11 (Dense)            (None, 32)                1056      \n",
      "                                                                 \n",
      " dense_12 (Dense)            (None, 32)                1056      \n",
      "                                                                 \n",
      " dense_13 (Dense)            (None, 16)                528       \n",
      "                                                                 \n",
      " dense_14 (Dense)            (None, 7)                 119       \n",
      "                                                                 \n",
      "=================================================================\n",
      "Total params: 3,303\n",
      "Trainable params: 3,303\n",
      "Non-trainable params: 0\n",
      "_________________________________________________________________\n"
     ]
    }
   ],
   "source": [
    "model.summary()"
   ]
  },
  {
   "cell_type": "code",
   "execution_count": null,
   "id": "3f08d682",
   "metadata": {},
   "outputs": [
    {
     "data": {
      "image/png": "[encoded data removed]",
      "text/plain": [
       "<Figure size 432x288 with 1 Axes>"
      ]
     },
     "metadata": {
      "needs_background": "light"
     },
     "output_type": "display_data"
    }
   ],
   "source": [
    "plt.plot(history.history['loss'])\n",
    "plt.plot(history.history['val_loss'])\n",
    "plt.title('model loss')\n",
    "plt.ylabel('loss')\n",
    "plt.xlabel('epoch')\n",
    "#plt.legend(['train', 'val'], loc='upper left')\n",
    "plt.show()\n",
    "    "
   ]
  },
  {
   "cell_type": "code",
   "execution_count": null,
   "id": "ef788207",
   "metadata": {},
   "outputs": [],
   "source": [
    "y_pred = model.predict(X_test)\n",
    "y_pred = y_pred.argmax(axis=1)"
   ]
  },
  {
   "cell_type": "code",
   "execution_count": null,
   "id": "fb0da0eb",
   "metadata": {},
   "outputs": [
    {
     "name": "stdout",
     "output_type": "stream",
     "text": [
      "              precision    recall  f1-score   support\n",
      "\n",
      "           0       0.91      0.94      0.92       400\n",
      "           1       1.00      0.99      1.00       185\n",
      "           2       0.94      0.94      0.94       531\n",
      "           3       0.92      0.93      0.93      1163\n",
      "           4       0.96      0.94      0.95       642\n",
      "           5       0.96      0.94      0.95       675\n",
      "           6       0.87      0.88      0.88       896\n",
      "\n",
      "    accuracy                           0.93      4492\n",
      "   macro avg       0.94      0.94      0.94      4492\n",
      "weighted avg       0.93      0.93      0.93      4492\n",
      "\n"
     ]
    }
   ],
   "source": [
    "from sklearn.metrics import classification_report\n",
    "print(classification_report(y_test,y_pred))"
   ]
  }
 ],
 "metadata": {
  "kernelspec": {
   "display_name": "Python 3.9.7 64-bit",
   "language": "python",
   "name": "python3"
  },
  "language_info": {
   "codemirror_mode": {
    "name": "ipython",
    "version": 3
   },
   "file_extension": ".py",
   "mimetype": "text/x-python",
   "name": "python",
   "nbconvert_exporter": "python",
   "pygments_lexer": "ipython3",
   "version": "3.9.7"
  },
  "vscode": {
   "interpreter": {
    "hash": "14958d3aee5f1cad06795f787e54b96185c25fb40dfec723a5be941f3a531b8c"
   }
  }
 },
 "nbformat": 4,
 "nbformat_minor": 5
}
