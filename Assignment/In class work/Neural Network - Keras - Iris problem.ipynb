{
 "cells": [
  {
   "cell_type": "code",
   "execution_count": 1,
   "metadata": {},
   "outputs": [],
   "source": [
    "from tensorflow.keras import layers\n",
    "from tensorflow.keras import models\n",
    "import numpy as np "
   ]
  },
  {
   "cell_type": "code",
   "execution_count": 2,
   "metadata": {},
   "outputs": [
    {
     "name": "stdout",
     "output_type": "stream",
     "text": [
      "(149, 5)\n"
     ]
    }
   ],
   "source": [
    "import pandas as pd\n",
    "dataframe = pd.read_csv(\"iris.data\")\n",
    "data = np.array(dataframe.values)\n",
    "print(data.shape)"
   ]
  },
  {
   "cell_type": "code",
   "execution_count": 3,
   "metadata": {},
   "outputs": [
    {
     "name": "stdout",
     "output_type": "stream",
     "text": [
      "(149, 4)\n",
      "(149,)\n"
     ]
    }
   ],
   "source": [
    "X = data[:,:-1]\n",
    "X = np.asarray(X.astype(np.float32))\n",
    "y = data[:,-1]\n",
    "print(X.shape)\n",
    "print(y.shape)"
   ]
  },
  {
   "cell_type": "code",
   "execution_count": 4,
   "metadata": {},
   "outputs": [
    {
     "name": "stdout",
     "output_type": "stream",
     "text": [
      "Counter({'Iris-versicolor': 50, 'Iris-virginica': 50, 'Iris-setosa': 49})\n"
     ]
    }
   ],
   "source": [
    "from collections import Counter\n",
    "counter = Counter()\n",
    "counter.update(y)\n",
    "print(counter)"
   ]
  },
  {
   "cell_type": "code",
   "execution_count": 5,
   "metadata": {},
   "outputs": [
    {
     "name": "stdout",
     "output_type": "stream",
     "text": [
      "[0 0 0 0 0 0 0 0 0 0 0 0 0 0 0 0 0 0 0 0 0 0 0 0 0 0 0 0 0 0 0 0 0 0 0 0 0\n",
      " 0 0 0 0 0 0 0 0 0 0 0 0 1 1 1 1 1 1 1 1 1 1 1 1 1 1 1 1 1 1 1 1 1 1 1 1 1\n",
      " 1 1 1 1 1 1 1 1 1 1 1 1 1 1 1 1 1 1 1 1 1 1 1 1 1 2 2 2 2 2 2 2 2 2 2 2 2\n",
      " 2 2 2 2 2 2 2 2 2 2 2 2 2 2 2 2 2 2 2 2 2 2 2 2 2 2 2 2 2 2 2 2 2 2 2 2 2\n",
      " 2]\n"
     ]
    }
   ],
   "source": [
    "from sklearn.preprocessing import LabelEncoder\n",
    "encoder = LabelEncoder()\n",
    "y = encoder.fit_transform(y)\n",
    "print(y)"
   ]
  },
  {
   "cell_type": "code",
   "execution_count": 6,
   "metadata": {},
   "outputs": [
    {
     "name": "stdout",
     "output_type": "stream",
     "text": [
      "Train:\n",
      "(104, 4)\n",
      "(104,)\n",
      "Test:\n",
      "(45, 4)\n",
      "(45,)\n"
     ]
    }
   ],
   "source": [
    "from sklearn.model_selection import train_test_split\n",
    "\n",
    "X_train, X_test, y_train, y_test = train_test_split(X, y, test_size=0.3, random_state=42)\n",
    "\n",
    "print('Train:')\n",
    "print(X_train.shape)\n",
    "print(y_train.shape)\n",
    "print('Test:')\n",
    "print(X_test.shape)\n",
    "print(y_test.shape)"
   ]
  },
  {
   "cell_type": "code",
   "execution_count": 7,
   "metadata": {},
   "outputs": [
    {
     "name": "stdout",
     "output_type": "stream",
     "text": [
      "[[5.8 2.7 3.9 1.2]\n",
      " [6.3 2.8 5.1 1.5]]\n"
     ]
    }
   ],
   "source": [
    "print(X_train[:2])"
   ]
  },
  {
   "cell_type": "code",
   "execution_count": 8,
   "metadata": {},
   "outputs": [
    {
     "name": "stdout",
     "output_type": "stream",
     "text": [
      "[[0. 1. 0.]\n",
      " [0. 0. 1.]]\n"
     ]
    }
   ],
   "source": [
    "from tensorflow.keras.utils import to_categorical\n",
    "y_train = to_categorical(y_train)\n",
    "print(y_train[:2])"
   ]
  },
  {
   "cell_type": "code",
   "execution_count": 9,
   "metadata": {},
   "outputs": [],
   "source": [
    "model = models.Sequential()\n",
    "model.add(layers.Dense(16, activation='tanh'))\n",
    "model.add(layers.Dense(32, activation='tanh'))\n",
    "model.add(layers.Dense(3,activation='softmax'))\n",
    "model.compile(loss='categorical_crossentropy', optimizer='adam', \n",
    "              metrics=['accuracy'])"
   ]
  },
  {
   "cell_type": "code",
   "execution_count": 10,
   "metadata": {},
   "outputs": [
    {
     "name": "stdout",
     "output_type": "stream",
     "text": [
      "Epoch 1/50\n",
      "11/11 - 1s - loss: 1.3489 - accuracy: 0.3558 - 991ms/epoch - 90ms/step\n",
      "Epoch 2/50\n",
      "11/11 - 0s - loss: 1.1677 - accuracy: 0.4423 - 27ms/epoch - 2ms/step\n",
      "Epoch 3/50\n",
      "11/11 - 0s - loss: 1.0683 - accuracy: 0.3558 - 27ms/epoch - 2ms/step\n",
      "Epoch 4/50\n",
      "11/11 - 0s - loss: 0.9522 - accuracy: 0.4712 - 26ms/epoch - 2ms/step\n",
      "Epoch 5/50\n",
      "11/11 - 0s - loss: 0.8587 - accuracy: 0.6731 - 25ms/epoch - 2ms/step\n",
      "Epoch 6/50\n",
      "11/11 - 0s - loss: 0.7748 - accuracy: 0.8750 - 24ms/epoch - 2ms/step\n",
      "Epoch 7/50\n",
      "11/11 - 0s - loss: 0.6979 - accuracy: 0.8846 - 27ms/epoch - 2ms/step\n",
      "Epoch 8/50\n",
      "11/11 - 0s - loss: 0.6382 - accuracy: 0.9615 - 31ms/epoch - 3ms/step\n",
      "Epoch 9/50\n",
      "11/11 - 0s - loss: 0.5798 - accuracy: 0.8846 - 27ms/epoch - 2ms/step\n",
      "Epoch 10/50\n",
      "11/11 - 0s - loss: 0.5337 - accuracy: 0.9231 - 24ms/epoch - 2ms/step\n",
      "Epoch 11/50\n",
      "11/11 - 0s - loss: 0.4903 - accuracy: 0.9712 - 28ms/epoch - 3ms/step\n",
      "Epoch 12/50\n",
      "11/11 - 0s - loss: 0.4570 - accuracy: 0.9808 - 20ms/epoch - 2ms/step\n",
      "Epoch 13/50\n",
      "11/11 - 0s - loss: 0.4216 - accuracy: 0.9712 - 22ms/epoch - 2ms/step\n",
      "Epoch 14/50\n",
      "11/11 - 0s - loss: 0.3925 - accuracy: 0.9615 - 23ms/epoch - 2ms/step\n",
      "Epoch 15/50\n",
      "11/11 - 0s - loss: 0.3618 - accuracy: 0.9808 - 22ms/epoch - 2ms/step\n",
      "Epoch 16/50\n",
      "11/11 - 0s - loss: 0.3372 - accuracy: 0.9808 - 37ms/epoch - 3ms/step\n",
      "Epoch 17/50\n",
      "11/11 - 0s - loss: 0.3130 - accuracy: 0.9808 - 44ms/epoch - 4ms/step\n",
      "Epoch 18/50\n",
      "11/11 - 0s - loss: 0.2921 - accuracy: 0.9808 - 29ms/epoch - 3ms/step\n",
      "Epoch 19/50\n",
      "11/11 - 0s - loss: 0.2760 - accuracy: 0.9712 - 22ms/epoch - 2ms/step\n",
      "Epoch 20/50\n",
      "11/11 - 0s - loss: 0.2627 - accuracy: 0.9808 - 20ms/epoch - 2ms/step\n",
      "Epoch 21/50\n",
      "11/11 - 0s - loss: 0.2442 - accuracy: 0.9808 - 18ms/epoch - 2ms/step\n",
      "Epoch 22/50\n",
      "11/11 - 0s - loss: 0.2235 - accuracy: 0.9712 - 17ms/epoch - 2ms/step\n",
      "Epoch 23/50\n",
      "11/11 - 0s - loss: 0.2144 - accuracy: 0.9808 - 19ms/epoch - 2ms/step\n",
      "Epoch 24/50\n",
      "11/11 - 0s - loss: 0.1996 - accuracy: 0.9712 - 15ms/epoch - 1ms/step\n",
      "Epoch 25/50\n",
      "11/11 - 0s - loss: 0.1849 - accuracy: 0.9904 - 17ms/epoch - 2ms/step\n",
      "Epoch 26/50\n",
      "11/11 - 0s - loss: 0.1749 - accuracy: 0.9808 - 23ms/epoch - 2ms/step\n",
      "Epoch 27/50\n",
      "11/11 - 0s - loss: 0.1659 - accuracy: 0.9808 - 20ms/epoch - 2ms/step\n",
      "Epoch 28/50\n",
      "11/11 - 0s - loss: 0.1560 - accuracy: 0.9904 - 18ms/epoch - 2ms/step\n",
      "Epoch 29/50\n",
      "11/11 - 0s - loss: 0.1491 - accuracy: 0.9904 - 23ms/epoch - 2ms/step\n",
      "Epoch 30/50\n",
      "11/11 - 0s - loss: 0.1427 - accuracy: 0.9712 - 18ms/epoch - 2ms/step\n",
      "Epoch 31/50\n",
      "11/11 - 0s - loss: 0.1327 - accuracy: 0.9808 - 20ms/epoch - 2ms/step\n",
      "Epoch 32/50\n",
      "11/11 - 0s - loss: 0.1310 - accuracy: 0.9808 - 23ms/epoch - 2ms/step\n",
      "Epoch 33/50\n",
      "11/11 - 0s - loss: 0.1240 - accuracy: 0.9904 - 15ms/epoch - 1ms/step\n",
      "Epoch 34/50\n",
      "11/11 - 0s - loss: 0.1166 - accuracy: 0.9904 - 16ms/epoch - 1ms/step\n",
      "Epoch 35/50\n",
      "11/11 - 0s - loss: 0.1154 - accuracy: 0.9808 - 20ms/epoch - 2ms/step\n",
      "Epoch 36/50\n",
      "11/11 - 0s - loss: 0.1153 - accuracy: 0.9712 - 27ms/epoch - 2ms/step\n",
      "Epoch 37/50\n",
      "11/11 - 0s - loss: 0.1034 - accuracy: 0.9904 - 23ms/epoch - 2ms/step\n",
      "Epoch 38/50\n",
      "11/11 - 0s - loss: 0.1026 - accuracy: 0.9808 - 21ms/epoch - 2ms/step\n",
      "Epoch 39/50\n",
      "11/11 - 0s - loss: 0.0973 - accuracy: 0.9904 - 25ms/epoch - 2ms/step\n",
      "Epoch 40/50\n",
      "11/11 - 0s - loss: 0.0952 - accuracy: 0.9904 - 34ms/epoch - 3ms/step\n",
      "Epoch 41/50\n",
      "11/11 - 0s - loss: 0.0914 - accuracy: 0.9904 - 24ms/epoch - 2ms/step\n",
      "Epoch 42/50\n",
      "11/11 - 0s - loss: 0.0897 - accuracy: 0.9808 - 22ms/epoch - 2ms/step\n",
      "Epoch 43/50\n",
      "11/11 - 0s - loss: 0.0860 - accuracy: 0.9904 - 24ms/epoch - 2ms/step\n",
      "Epoch 44/50\n",
      "11/11 - 0s - loss: 0.0859 - accuracy: 0.9808 - 30ms/epoch - 3ms/step\n",
      "Epoch 45/50\n",
      "11/11 - 0s - loss: 0.0858 - accuracy: 0.9904 - 26ms/epoch - 2ms/step\n",
      "Epoch 46/50\n",
      "11/11 - 0s - loss: 0.0789 - accuracy: 0.9904 - 29ms/epoch - 3ms/step\n",
      "Epoch 47/50\n",
      "11/11 - 0s - loss: 0.0769 - accuracy: 0.9904 - 38ms/epoch - 3ms/step\n",
      "Epoch 48/50\n",
      "11/11 - 0s - loss: 0.0816 - accuracy: 0.9904 - 23ms/epoch - 2ms/step\n",
      "Epoch 49/50\n",
      "11/11 - 0s - loss: 0.0718 - accuracy: 0.9904 - 22ms/epoch - 2ms/step\n",
      "Epoch 50/50\n",
      "11/11 - 0s - loss: 0.0708 - accuracy: 0.9904 - 27ms/epoch - 2ms/step\n"
     ]
    },
    {
     "data": {
      "text/plain": [
       "<keras.callbacks.History at 0x1a82f134be0>"
      ]
     },
     "execution_count": 10,
     "metadata": {},
     "output_type": "execute_result"
    }
   ],
   "source": [
    "model.fit(X_train,y_train,epochs=50, batch_size=10, verbose=2)"
   ]
  },
  {
   "cell_type": "code",
   "execution_count": 11,
   "metadata": {},
   "outputs": [
    {
     "name": "stdout",
     "output_type": "stream",
     "text": [
      "[[1.0471487e-02 9.8305398e-01 6.4745299e-03]\n",
      " [9.8874474e-01 1.1244364e-02 1.0979013e-05]]\n"
     ]
    }
   ],
   "source": [
    "y_pred = model.predict(X_test)\n",
    "print(y_pred[:2])"
   ]
  },
  {
   "cell_type": "code",
   "execution_count": 12,
   "metadata": {},
   "outputs": [
    {
     "name": "stdout",
     "output_type": "stream",
     "text": [
      "[1 0 2 1 1 0 1 2 1 2 2 0 0 0 0 1 2 2 1 2 0 2 0 2 2 2 2 2 0 0 0 0 1 0 0 2 1\n",
      " 0 0 0 2 1 1 0 0]\n",
      "[1 0 2 1 1 0 1 2 1 1 2 0 0 0 0 1 2 1 1 2 0 2 0 2 2 2 2 2 0 0 0 0 1 0 0 2 1\n",
      " 0 0 0 2 1 1 0 0]\n"
     ]
    }
   ],
   "source": [
    "y_pred = y_pred.argmax(axis=1)\n",
    "print(y_pred)\n",
    "print(y_test)"
   ]
  },
  {
   "cell_type": "code",
   "execution_count": 13,
   "metadata": {},
   "outputs": [
    {
     "name": "stdout",
     "output_type": "stream",
     "text": [
      "              precision    recall  f1-score   support\n",
      "\n",
      "           0       1.00      1.00      1.00        19\n",
      "           1       1.00      0.85      0.92        13\n",
      "           2       0.87      1.00      0.93        13\n",
      "\n",
      "    accuracy                           0.96        45\n",
      "   macro avg       0.96      0.95      0.95        45\n",
      "weighted avg       0.96      0.96      0.96        45\n",
      "\n"
     ]
    }
   ],
   "source": [
    "from sklearn.metrics import classification_report\n",
    "print(classification_report(y_test,y_pred))"
   ]
  },
  {
   "cell_type": "code",
   "execution_count": null,
   "metadata": {},
   "outputs": [],
   "source": []
  }
 ],
 "metadata": {
  "kernelspec": {
   "display_name": "Python 3.9.7 64-bit",
   "language": "python",
   "name": "python3"
  },
  "language_info": {
   "codemirror_mode": {
    "name": "ipython",
    "version": 3
   },
   "file_extension": ".py",
   "mimetype": "text/x-python",
   "name": "python",
   "nbconvert_exporter": "python",
   "pygments_lexer": "ipython3",
   "version": "3.9.7"
  },
  "vscode": {
   "interpreter": {
    "hash": "14958d3aee5f1cad06795f787e54b96185c25fb40dfec723a5be941f3a531b8c"
   }
  }
 },
 "nbformat": 4,
 "nbformat_minor": 4
}
